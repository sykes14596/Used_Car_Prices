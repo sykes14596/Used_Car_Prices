{
 "cells": [
  {
   "cell_type": "markdown",
   "metadata": {},
   "source": [
    "# Used Car Sale Prices\n",
    "\n",
    "The goal of this project is to create a model that accurately predicts the sale price of a used car.\n",
    "\n",
    "The data used for this project was found on Kaggle.com, uploaded by Aditya. The data contains 9 csv files, with each file storing the information about one make of car, including Audi, BMW, Ford, Hyundai, Mercedes, Skoda, Toyota, Vauxhall and Volkswagen. \n",
    "\n",
    "In this project we shall undertake the following tasks:\n",
    "\n",
    "0. Data and Package Imports\n",
    "1. Exploratory Data Analysis\n",
    "2. Data Preprocessing\n",
    "3. Model Creation and Evaluation\n",
    "4. Conclusions\n",
    "\n",
    "## 0: Data and Package Imports\n",
    "\n",
    "In this section we shall import the 9 different csv files and the necessary visualisation libraries from Python. We shall first import the visualisation packages."
   ]
  },
  {
   "cell_type": "code",
   "execution_count": 1,
   "metadata": {},
   "outputs": [],
   "source": [
    "import numpy as np\n",
    "import pandas as pd\n",
    "import matplotlib.pyplot as plt\n",
    "import seaborn as sns\n",
    "%matplotlib inline"
   ]
  },
  {
   "cell_type": "markdown",
   "metadata": {},
   "source": [
    "We shall now import each csv file into a Pandas dataframe."
   ]
  },
  {
   "cell_type": "code",
   "execution_count": 2,
   "metadata": {},
   "outputs": [],
   "source": [
    "audi = pd.read_csv('audi.csv')\n",
    "bmw = pd.read_csv('bmw.csv')\n",
    "ford = pd.read_csv('ford.csv')\n",
    "hyundai = pd.read_csv('hyundi.csv')\n",
    "mercedes = pd.read_csv('merc.csv')\n",
    "skoda = pd.read_csv('skoda.csv')\n",
    "toyota = pd.read_csv('toyota.csv')\n",
    "vauxhall = pd.read_csv('vauxhall.csv')\n",
    "vw = pd.read_csv('vw.csv')"
   ]
  },
  {
   "cell_type": "markdown",
   "metadata": {},
   "source": [
    "Rather than working with 9 different dataframes, it will be simpler if we were able to concatenate each dataframe into one larger dataframe. Let us first check the columns of each dataframe to ensure that the information stored about each vehicle is the same."
   ]
  },
  {
   "cell_type": "code",
   "execution_count": 3,
   "metadata": {},
   "outputs": [
    {
     "name": "stdout",
     "output_type": "stream",
     "text": [
      "Columns in the Audi dataframe:\n",
      "['model', 'year', 'price', 'transmission', 'mileage', 'fuelType', 'tax', 'mpg', 'engineSize']\n",
      "--------------------------------------------------\n",
      "Columns in the BMW dataframe:\n",
      "['model', 'year', 'price', 'transmission', 'mileage', 'fuelType', 'tax', 'mpg', 'engineSize']\n",
      "--------------------------------------------------\n",
      "Columns in the Ford dataframe:\n",
      "['model', 'year', 'price', 'transmission', 'mileage', 'fuelType', 'tax', 'mpg', 'engineSize']\n",
      "--------------------------------------------------\n",
      "Columns in the Hyundai dataframe:\n",
      "['model', 'year', 'price', 'transmission', 'mileage', 'fuelType', 'tax(£)', 'mpg', 'engineSize']\n",
      "--------------------------------------------------\n",
      "Columns in the Mercedes dataframe:\n",
      "['model', 'year', 'price', 'transmission', 'mileage', 'fuelType', 'tax', 'mpg', 'engineSize']\n",
      "--------------------------------------------------\n",
      "Columns in the Skoda dataframe:\n",
      "['model', 'year', 'price', 'transmission', 'mileage', 'fuelType', 'tax', 'mpg', 'engineSize']\n",
      "--------------------------------------------------\n",
      "Columns in the Toyota dataframe:\n",
      "['model', 'year', 'price', 'transmission', 'mileage', 'fuelType', 'tax', 'mpg', 'engineSize']\n",
      "--------------------------------------------------\n",
      "Columns in the Vauxhall dataframe:\n",
      "['model', 'year', 'price', 'transmission', 'mileage', 'fuelType', 'tax', 'mpg', 'engineSize']\n",
      "--------------------------------------------------\n",
      "Columns in the VW dataframe:\n",
      "['model', 'year', 'price', 'transmission', 'mileage', 'fuelType', 'tax', 'mpg', 'engineSize']\n"
     ]
    }
   ],
   "source": [
    "print(\"Columns in the Audi dataframe:\") \n",
    "print(list(audi.columns))\n",
    "print(\"-\" * 50)\n",
    "print(\"Columns in the BMW dataframe:\")\n",
    "print(list(bmw.columns))\n",
    "print(\"-\" * 50)\n",
    "print(\"Columns in the Ford dataframe:\")\n",
    "print(list(ford.columns))\n",
    "print(\"-\" * 50)\n",
    "print(\"Columns in the Hyundai dataframe:\")\n",
    "print(list(hyundai.columns))\n",
    "print(\"-\" * 50)\n",
    "print(\"Columns in the Mercedes dataframe:\")\n",
    "print(list(mercedes.columns))\n",
    "print(\"-\" * 50)\n",
    "print(\"Columns in the Skoda dataframe:\")\n",
    "print(list(skoda.columns))\n",
    "print(\"-\" * 50)\n",
    "print(\"Columns in the Toyota dataframe:\")\n",
    "print(list(toyota.columns))\n",
    "print(\"-\" * 50)\n",
    "print(\"Columns in the Vauxhall dataframe:\")\n",
    "print(list(vauxhall.columns))\n",
    "print(\"-\" * 50)\n",
    "print(\"Columns in the VW dataframe:\")\n",
    "print(list(vw.columns))"
   ]
  },
  {
   "cell_type": "markdown",
   "metadata": {},
   "source": [
    "We can see that the columns within each dataframe are the same, with the exception of the \"Tax\" column in the Hyundai dataframe. Let us change the name of this column so that we are able to join the dataframes together."
   ]
  },
  {
   "cell_type": "code",
   "execution_count": 4,
   "metadata": {},
   "outputs": [],
   "source": [
    "hyundai.rename({'tax(£)': 'tax'},axis=1,inplace=True)"
   ]
  },
  {
   "cell_type": "markdown",
   "metadata": {},
   "source": [
    "Let us check the columns of the Hyundai dataframe now."
   ]
  },
  {
   "cell_type": "code",
   "execution_count": 5,
   "metadata": {},
   "outputs": [
    {
     "name": "stdout",
     "output_type": "stream",
     "text": [
      "['model', 'year', 'price', 'transmission', 'mileage', 'fuelType', 'tax', 'mpg', 'engineSize']\n"
     ]
    }
   ],
   "source": [
    "print(list(hyundai.columns))"
   ]
  },
  {
   "cell_type": "markdown",
   "metadata": {},
   "source": [
    "We notice that the column names are now identical for each dataframe, meaning that we are able to merge the dataframes together. First, let us create a new column in each dataframe called \"make\", which is simply the name of the manufacturer who produced the car, so that this information is not lost in our new dataframe."
   ]
  },
  {
   "cell_type": "code",
   "execution_count": 6,
   "metadata": {},
   "outputs": [],
   "source": [
    "audi['make'] = 'Audi'\n",
    "bmw['make'] = 'BMW'\n",
    "ford['make'] = 'Ford'\n",
    "hyundai['make'] = 'Hyundai'\n",
    "mercedes['make'] = 'Mercedes'\n",
    "skoda['make'] = 'Skoda'\n",
    "toyota['make'] = 'Toyota'\n",
    "vauxhall['make'] = 'Vauxhall'\n",
    "vw['make'] = 'Volkswagen'"
   ]
  },
  {
   "cell_type": "markdown",
   "metadata": {},
   "source": [
    "We are now able to join the dataframes into a single larger dataframe which contains all the information about every car within our dataset. "
   ]
  },
  {
   "cell_type": "code",
   "execution_count": 7,
   "metadata": {},
   "outputs": [],
   "source": [
    "df = pd.concat([audi, bmw, ford, hyundai, mercedes, skoda, toyota, vauxhall, vw], axis=0, ignore_index=True)"
   ]
  },
  {
   "cell_type": "markdown",
   "metadata": {},
   "source": [
    "Let us now check the info of the new dataframe."
   ]
  },
  {
   "cell_type": "code",
   "execution_count": 8,
   "metadata": {},
   "outputs": [
    {
     "name": "stdout",
     "output_type": "stream",
     "text": [
      "<class 'pandas.core.frame.DataFrame'>\n",
      "RangeIndex: 99187 entries, 0 to 99186\n",
      "Data columns (total 10 columns):\n",
      " #   Column        Non-Null Count  Dtype  \n",
      "---  ------        --------------  -----  \n",
      " 0   model         99187 non-null  object \n",
      " 1   year          99187 non-null  int64  \n",
      " 2   price         99187 non-null  int64  \n",
      " 3   transmission  99187 non-null  object \n",
      " 4   mileage       99187 non-null  int64  \n",
      " 5   fuelType      99187 non-null  object \n",
      " 6   tax           99187 non-null  int64  \n",
      " 7   mpg           99187 non-null  float64\n",
      " 8   engineSize    99187 non-null  float64\n",
      " 9   make          99187 non-null  object \n",
      "dtypes: float64(2), int64(4), object(4)\n",
      "memory usage: 7.6+ MB\n"
     ]
    }
   ],
   "source": [
    "df.info()"
   ]
  },
  {
   "cell_type": "markdown",
   "metadata": {},
   "source": [
    "We can see that our dataframe contains nearly data regarding nearly 100000 used cars from across the UK. Let us reorder the columns so that the data is presented in a logical order. "
   ]
  },
  {
   "cell_type": "code",
   "execution_count": 9,
   "metadata": {},
   "outputs": [],
   "source": [
    "df = df[['make','model','year','fuelType','mileage','engineSize','transmission','mpg','tax','price']]"
   ]
  },
  {
   "cell_type": "markdown",
   "metadata": {},
   "source": [
    "Let us now check the head of the dataframe."
   ]
  },
  {
   "cell_type": "code",
   "execution_count": 10,
   "metadata": {},
   "outputs": [
    {
     "data": {
      "text/html": [
       "<div>\n",
       "<style scoped>\n",
       "    .dataframe tbody tr th:only-of-type {\n",
       "        vertical-align: middle;\n",
       "    }\n",
       "\n",
       "    .dataframe tbody tr th {\n",
       "        vertical-align: top;\n",
       "    }\n",
       "\n",
       "    .dataframe thead th {\n",
       "        text-align: right;\n",
       "    }\n",
       "</style>\n",
       "<table border=\"1\" class=\"dataframe\">\n",
       "  <thead>\n",
       "    <tr style=\"text-align: right;\">\n",
       "      <th></th>\n",
       "      <th>make</th>\n",
       "      <th>model</th>\n",
       "      <th>year</th>\n",
       "      <th>fuelType</th>\n",
       "      <th>mileage</th>\n",
       "      <th>engineSize</th>\n",
       "      <th>transmission</th>\n",
       "      <th>mpg</th>\n",
       "      <th>tax</th>\n",
       "      <th>price</th>\n",
       "    </tr>\n",
       "  </thead>\n",
       "  <tbody>\n",
       "    <tr>\n",
       "      <th>0</th>\n",
       "      <td>Audi</td>\n",
       "      <td>A1</td>\n",
       "      <td>2017</td>\n",
       "      <td>Petrol</td>\n",
       "      <td>15735</td>\n",
       "      <td>1.4</td>\n",
       "      <td>Manual</td>\n",
       "      <td>55.4</td>\n",
       "      <td>150</td>\n",
       "      <td>12500</td>\n",
       "    </tr>\n",
       "    <tr>\n",
       "      <th>1</th>\n",
       "      <td>Audi</td>\n",
       "      <td>A6</td>\n",
       "      <td>2016</td>\n",
       "      <td>Diesel</td>\n",
       "      <td>36203</td>\n",
       "      <td>2.0</td>\n",
       "      <td>Automatic</td>\n",
       "      <td>64.2</td>\n",
       "      <td>20</td>\n",
       "      <td>16500</td>\n",
       "    </tr>\n",
       "    <tr>\n",
       "      <th>2</th>\n",
       "      <td>Audi</td>\n",
       "      <td>A1</td>\n",
       "      <td>2016</td>\n",
       "      <td>Petrol</td>\n",
       "      <td>29946</td>\n",
       "      <td>1.4</td>\n",
       "      <td>Manual</td>\n",
       "      <td>55.4</td>\n",
       "      <td>30</td>\n",
       "      <td>11000</td>\n",
       "    </tr>\n",
       "    <tr>\n",
       "      <th>3</th>\n",
       "      <td>Audi</td>\n",
       "      <td>A4</td>\n",
       "      <td>2017</td>\n",
       "      <td>Diesel</td>\n",
       "      <td>25952</td>\n",
       "      <td>2.0</td>\n",
       "      <td>Automatic</td>\n",
       "      <td>67.3</td>\n",
       "      <td>145</td>\n",
       "      <td>16800</td>\n",
       "    </tr>\n",
       "    <tr>\n",
       "      <th>4</th>\n",
       "      <td>Audi</td>\n",
       "      <td>A3</td>\n",
       "      <td>2019</td>\n",
       "      <td>Petrol</td>\n",
       "      <td>1998</td>\n",
       "      <td>1.0</td>\n",
       "      <td>Manual</td>\n",
       "      <td>49.6</td>\n",
       "      <td>145</td>\n",
       "      <td>17300</td>\n",
       "    </tr>\n",
       "  </tbody>\n",
       "</table>\n",
       "</div>"
      ],
      "text/plain": [
       "   make model  year fuelType  mileage  engineSize transmission   mpg  tax  \\\n",
       "0  Audi    A1  2017   Petrol    15735         1.4       Manual  55.4  150   \n",
       "1  Audi    A6  2016   Diesel    36203         2.0    Automatic  64.2   20   \n",
       "2  Audi    A1  2016   Petrol    29946         1.4       Manual  55.4   30   \n",
       "3  Audi    A4  2017   Diesel    25952         2.0    Automatic  67.3  145   \n",
       "4  Audi    A3  2019   Petrol     1998         1.0       Manual  49.6  145   \n",
       "\n",
       "   price  \n",
       "0  12500  \n",
       "1  16500  \n",
       "2  11000  \n",
       "3  16800  \n",
       "4  17300  "
      ]
     },
     "execution_count": 10,
     "metadata": {},
     "output_type": "execute_result"
    }
   ],
   "source": [
    "df.head()"
   ]
  },
  {
   "cell_type": "markdown",
   "metadata": {},
   "source": [
    "Here we can see some examples of the types of data stored within each column. We note that the \"Model\", \"fuelType\" and \"transmission\" variables are stored in the \"object\" format, which means we will have to use label encoding or dummy variables in order to input them into our machine learning algorithms. \n",
    "\n",
    "## 1: Exploratory Data Analysis\n",
    "\n",
    "In this section we shall begin to explore the data in order to identify and key relationships.\n",
    "\n",
    "### 1.1: Understanding the Variables and Cleaning the Dataset\n",
    "\n",
    "Let us begin investigating the range of different values possible for each variable."
   ]
  },
  {
   "cell_type": "code",
   "execution_count": 11,
   "metadata": {},
   "outputs": [
    {
     "data": {
      "text/plain": [
       "make                9\n",
       "model             195\n",
       "year               27\n",
       "fuelType            5\n",
       "mileage         42214\n",
       "engineSize         40\n",
       "transmission        4\n",
       "mpg               208\n",
       "tax                48\n",
       "price           13236\n",
       "dtype: int64"
      ]
     },
     "execution_count": 11,
     "metadata": {},
     "output_type": "execute_result"
    }
   ],
   "source": [
    "df.nunique(axis=0)"
   ]
  },
  {
   "cell_type": "markdown",
   "metadata": {},
   "source": [
    "We can see that, particulary for our categorical variables, that there are a range of different values that could be taken. Let us investigate these further. "
   ]
  },
  {
   "cell_type": "code",
   "execution_count": 12,
   "metadata": {},
   "outputs": [
    {
     "name": "stdout",
     "output_type": "stream",
     "text": [
      "Unique values for \"fuelType\" column: ['Diesel', 'Electric', 'Hybrid', 'Other', 'Petrol']\n",
      "Unique values for \"transmission\" column: ['Automatic', 'Manual', 'Other', 'Semi-Auto']\n"
     ]
    }
   ],
   "source": [
    "print('Unique values for \"fuelType\" column:', sorted(list(df['fuelType'].unique())))\n",
    "print('Unique values for \"transmission\" column:', sorted(list(df['transmission'].unique())))\n"
   ]
  },
  {
   "cell_type": "markdown",
   "metadata": {},
   "source": [
    "The options shown within these catgeorical variables are completely independent and we are therefore not able to reduce the number of categories within these features. Let us now investigate the numerical columns."
   ]
  },
  {
   "cell_type": "code",
   "execution_count": 13,
   "metadata": {},
   "outputs": [
    {
     "data": {
      "text/html": [
       "<div>\n",
       "<style scoped>\n",
       "    .dataframe tbody tr th:only-of-type {\n",
       "        vertical-align: middle;\n",
       "    }\n",
       "\n",
       "    .dataframe tbody tr th {\n",
       "        vertical-align: top;\n",
       "    }\n",
       "\n",
       "    .dataframe thead th {\n",
       "        text-align: right;\n",
       "    }\n",
       "</style>\n",
       "<table border=\"1\" class=\"dataframe\">\n",
       "  <thead>\n",
       "    <tr style=\"text-align: right;\">\n",
       "      <th></th>\n",
       "      <th>year</th>\n",
       "      <th>mileage</th>\n",
       "      <th>engineSize</th>\n",
       "      <th>mpg</th>\n",
       "      <th>tax</th>\n",
       "      <th>price</th>\n",
       "    </tr>\n",
       "  </thead>\n",
       "  <tbody>\n",
       "    <tr>\n",
       "      <th>count</th>\n",
       "      <td>99187.000000</td>\n",
       "      <td>99187.000000</td>\n",
       "      <td>99187.000000</td>\n",
       "      <td>99187.000000</td>\n",
       "      <td>99187.000000</td>\n",
       "      <td>99187.000000</td>\n",
       "    </tr>\n",
       "    <tr>\n",
       "      <th>mean</th>\n",
       "      <td>2017.087723</td>\n",
       "      <td>23058.914213</td>\n",
       "      <td>1.663280</td>\n",
       "      <td>55.166825</td>\n",
       "      <td>120.299838</td>\n",
       "      <td>16805.347656</td>\n",
       "    </tr>\n",
       "    <tr>\n",
       "      <th>std</th>\n",
       "      <td>2.123934</td>\n",
       "      <td>21148.523721</td>\n",
       "      <td>0.557646</td>\n",
       "      <td>16.138522</td>\n",
       "      <td>63.150926</td>\n",
       "      <td>9866.773417</td>\n",
       "    </tr>\n",
       "    <tr>\n",
       "      <th>min</th>\n",
       "      <td>1970.000000</td>\n",
       "      <td>1.000000</td>\n",
       "      <td>0.000000</td>\n",
       "      <td>0.300000</td>\n",
       "      <td>0.000000</td>\n",
       "      <td>450.000000</td>\n",
       "    </tr>\n",
       "    <tr>\n",
       "      <th>25%</th>\n",
       "      <td>2016.000000</td>\n",
       "      <td>7425.000000</td>\n",
       "      <td>1.200000</td>\n",
       "      <td>47.100000</td>\n",
       "      <td>125.000000</td>\n",
       "      <td>9999.000000</td>\n",
       "    </tr>\n",
       "    <tr>\n",
       "      <th>50%</th>\n",
       "      <td>2017.000000</td>\n",
       "      <td>17460.000000</td>\n",
       "      <td>1.600000</td>\n",
       "      <td>54.300000</td>\n",
       "      <td>145.000000</td>\n",
       "      <td>14495.000000</td>\n",
       "    </tr>\n",
       "    <tr>\n",
       "      <th>75%</th>\n",
       "      <td>2019.000000</td>\n",
       "      <td>32339.000000</td>\n",
       "      <td>2.000000</td>\n",
       "      <td>62.800000</td>\n",
       "      <td>145.000000</td>\n",
       "      <td>20870.000000</td>\n",
       "    </tr>\n",
       "    <tr>\n",
       "      <th>max</th>\n",
       "      <td>2060.000000</td>\n",
       "      <td>323000.000000</td>\n",
       "      <td>6.600000</td>\n",
       "      <td>470.800000</td>\n",
       "      <td>580.000000</td>\n",
       "      <td>159999.000000</td>\n",
       "    </tr>\n",
       "  </tbody>\n",
       "</table>\n",
       "</div>"
      ],
      "text/plain": [
       "               year        mileage    engineSize           mpg           tax  \\\n",
       "count  99187.000000   99187.000000  99187.000000  99187.000000  99187.000000   \n",
       "mean    2017.087723   23058.914213      1.663280     55.166825    120.299838   \n",
       "std        2.123934   21148.523721      0.557646     16.138522     63.150926   \n",
       "min     1970.000000       1.000000      0.000000      0.300000      0.000000   \n",
       "25%     2016.000000    7425.000000      1.200000     47.100000    125.000000   \n",
       "50%     2017.000000   17460.000000      1.600000     54.300000    145.000000   \n",
       "75%     2019.000000   32339.000000      2.000000     62.800000    145.000000   \n",
       "max     2060.000000  323000.000000      6.600000    470.800000    580.000000   \n",
       "\n",
       "               price  \n",
       "count   99187.000000  \n",
       "mean    16805.347656  \n",
       "std      9866.773417  \n",
       "min       450.000000  \n",
       "25%      9999.000000  \n",
       "50%     14495.000000  \n",
       "75%     20870.000000  \n",
       "max    159999.000000  "
      ]
     },
     "execution_count": 13,
     "metadata": {},
     "output_type": "execute_result"
    }
   ],
   "source": [
    "df.describe().apply(lambda s: s.apply(lambda x: format(x, 'f')))"
   ]
  },
  {
   "cell_type": "markdown",
   "metadata": {},
   "source": [
    "#### Year\n",
    "\n",
    "We immediately notice that there seems to be an isue with the \"year\" column, with at least 1 vehicle having a value of 2060. Let us remove that datapoint."
   ]
  },
  {
   "cell_type": "code",
   "execution_count": 14,
   "metadata": {},
   "outputs": [
    {
     "data": {
      "text/html": [
       "<div>\n",
       "<style scoped>\n",
       "    .dataframe tbody tr th:only-of-type {\n",
       "        vertical-align: middle;\n",
       "    }\n",
       "\n",
       "    .dataframe tbody tr th {\n",
       "        vertical-align: top;\n",
       "    }\n",
       "\n",
       "    .dataframe thead th {\n",
       "        text-align: right;\n",
       "    }\n",
       "</style>\n",
       "<table border=\"1\" class=\"dataframe\">\n",
       "  <thead>\n",
       "    <tr style=\"text-align: right;\">\n",
       "      <th></th>\n",
       "      <th>make</th>\n",
       "      <th>model</th>\n",
       "      <th>year</th>\n",
       "      <th>fuelType</th>\n",
       "      <th>mileage</th>\n",
       "      <th>engineSize</th>\n",
       "      <th>transmission</th>\n",
       "      <th>mpg</th>\n",
       "      <th>tax</th>\n",
       "      <th>price</th>\n",
       "    </tr>\n",
       "  </thead>\n",
       "  <tbody>\n",
       "    <tr>\n",
       "      <th>39175</th>\n",
       "      <td>Ford</td>\n",
       "      <td>Fiesta</td>\n",
       "      <td>2060</td>\n",
       "      <td>Petrol</td>\n",
       "      <td>54807</td>\n",
       "      <td>1.4</td>\n",
       "      <td>Automatic</td>\n",
       "      <td>42.8</td>\n",
       "      <td>205</td>\n",
       "      <td>6495</td>\n",
       "    </tr>\n",
       "  </tbody>\n",
       "</table>\n",
       "</div>"
      ],
      "text/plain": [
       "       make    model  year fuelType  mileage  engineSize transmission   mpg  \\\n",
       "39175  Ford   Fiesta  2060   Petrol    54807         1.4    Automatic  42.8   \n",
       "\n",
       "       tax  price  \n",
       "39175  205   6495  "
      ]
     },
     "execution_count": 14,
     "metadata": {},
     "output_type": "execute_result"
    }
   ],
   "source": [
    "df[df['year'] == 2060]"
   ]
  },
  {
   "cell_type": "markdown",
   "metadata": {},
   "source": [
    "We shall remove this entry from our dataset, as it is difficult to determine when this vehicle was first registered."
   ]
  },
  {
   "cell_type": "code",
   "execution_count": 15,
   "metadata": {},
   "outputs": [],
   "source": [
    "df = df.drop(df.index[39175])"
   ]
  },
  {
   "cell_type": "markdown",
   "metadata": {},
   "source": [
    "We also notice that at least 1 vehicle was first registered in 1970. Let us investigate this date in more detail."
   ]
  },
  {
   "cell_type": "code",
   "execution_count": 16,
   "metadata": {},
   "outputs": [
    {
     "data": {
      "text/html": [
       "<div>\n",
       "<style scoped>\n",
       "    .dataframe tbody tr th:only-of-type {\n",
       "        vertical-align: middle;\n",
       "    }\n",
       "\n",
       "    .dataframe tbody tr th {\n",
       "        vertical-align: top;\n",
       "    }\n",
       "\n",
       "    .dataframe thead th {\n",
       "        text-align: right;\n",
       "    }\n",
       "</style>\n",
       "<table border=\"1\" class=\"dataframe\">\n",
       "  <thead>\n",
       "    <tr style=\"text-align: right;\">\n",
       "      <th></th>\n",
       "      <th>make</th>\n",
       "      <th>model</th>\n",
       "      <th>year</th>\n",
       "      <th>fuelType</th>\n",
       "      <th>mileage</th>\n",
       "      <th>engineSize</th>\n",
       "      <th>transmission</th>\n",
       "      <th>mpg</th>\n",
       "      <th>tax</th>\n",
       "      <th>price</th>\n",
       "    </tr>\n",
       "  </thead>\n",
       "  <tbody>\n",
       "    <tr>\n",
       "      <th>56346</th>\n",
       "      <td>Mercedes</td>\n",
       "      <td>M Class</td>\n",
       "      <td>1970</td>\n",
       "      <td>Diesel</td>\n",
       "      <td>14000</td>\n",
       "      <td>0.0</td>\n",
       "      <td>Automatic</td>\n",
       "      <td>39.2</td>\n",
       "      <td>305</td>\n",
       "      <td>24999</td>\n",
       "    </tr>\n",
       "    <tr>\n",
       "      <th>81235</th>\n",
       "      <td>Vauxhall</td>\n",
       "      <td>Zafira</td>\n",
       "      <td>1970</td>\n",
       "      <td>Petrol</td>\n",
       "      <td>37357</td>\n",
       "      <td>1.4</td>\n",
       "      <td>Manual</td>\n",
       "      <td>42.2</td>\n",
       "      <td>200</td>\n",
       "      <td>10495</td>\n",
       "    </tr>\n",
       "  </tbody>\n",
       "</table>\n",
       "</div>"
      ],
      "text/plain": [
       "           make     model  year fuelType  mileage  engineSize transmission  \\\n",
       "56346  Mercedes   M Class  1970   Diesel    14000         0.0    Automatic   \n",
       "81235  Vauxhall    Zafira  1970   Petrol    37357         1.4       Manual   \n",
       "\n",
       "        mpg  tax  price  \n",
       "56346  39.2  305  24999  \n",
       "81235  42.2  200  10495  "
      ]
     },
     "execution_count": 16,
     "metadata": {},
     "output_type": "execute_result"
    }
   ],
   "source": [
    "df[df['year'] == 1970]"
   ]
  },
  {
   "cell_type": "markdown",
   "metadata": {},
   "source": [
    "Let us remove these two vehicles from the dataset also."
   ]
  },
  {
   "cell_type": "code",
   "execution_count": 17,
   "metadata": {},
   "outputs": [],
   "source": [
    "indexNames = df[df['year'] == 1970].index\n",
    "df = df.drop(indexNames)"
   ]
  },
  {
   "cell_type": "markdown",
   "metadata": {},
   "source": [
    "#### Engine Size\n",
    "\n",
    "From the output of the describe method above, we also observe that there are some vehicles recorded with an engine size of 0. This is obviously impossible and these vehicles must be investigated. Let us first look at which vehicles have been recorded with this value."
   ]
  },
  {
   "cell_type": "code",
   "execution_count": 18,
   "metadata": {},
   "outputs": [
    {
     "data": {
      "text/html": [
       "<div>\n",
       "<style scoped>\n",
       "    .dataframe tbody tr th:only-of-type {\n",
       "        vertical-align: middle;\n",
       "    }\n",
       "\n",
       "    .dataframe tbody tr th {\n",
       "        vertical-align: top;\n",
       "    }\n",
       "\n",
       "    .dataframe thead th {\n",
       "        text-align: right;\n",
       "    }\n",
       "</style>\n",
       "<table border=\"1\" class=\"dataframe\">\n",
       "  <thead>\n",
       "    <tr style=\"text-align: right;\">\n",
       "      <th></th>\n",
       "      <th>make</th>\n",
       "      <th>model</th>\n",
       "      <th>year</th>\n",
       "      <th>fuelType</th>\n",
       "      <th>mileage</th>\n",
       "      <th>engineSize</th>\n",
       "      <th>transmission</th>\n",
       "      <th>mpg</th>\n",
       "      <th>tax</th>\n",
       "      <th>price</th>\n",
       "    </tr>\n",
       "  </thead>\n",
       "  <tbody>\n",
       "    <tr>\n",
       "      <th>7505</th>\n",
       "      <td>Audi</td>\n",
       "      <td>Q5</td>\n",
       "      <td>2019</td>\n",
       "      <td>Petrol</td>\n",
       "      <td>5886</td>\n",
       "      <td>0.0</td>\n",
       "      <td>Automatic</td>\n",
       "      <td>117.7</td>\n",
       "      <td>135</td>\n",
       "      <td>44790</td>\n",
       "    </tr>\n",
       "    <tr>\n",
       "      <th>7506</th>\n",
       "      <td>Audi</td>\n",
       "      <td>Q3</td>\n",
       "      <td>2019</td>\n",
       "      <td>Diesel</td>\n",
       "      <td>1500</td>\n",
       "      <td>0.0</td>\n",
       "      <td>Automatic</td>\n",
       "      <td>47.1</td>\n",
       "      <td>145</td>\n",
       "      <td>32788</td>\n",
       "    </tr>\n",
       "    <tr>\n",
       "      <th>7516</th>\n",
       "      <td>Audi</td>\n",
       "      <td>Q3</td>\n",
       "      <td>2020</td>\n",
       "      <td>Petrol</td>\n",
       "      <td>1500</td>\n",
       "      <td>0.0</td>\n",
       "      <td>Manual</td>\n",
       "      <td>40.9</td>\n",
       "      <td>145</td>\n",
       "      <td>29944</td>\n",
       "    </tr>\n",
       "    <tr>\n",
       "      <th>7517</th>\n",
       "      <td>Audi</td>\n",
       "      <td>Q3</td>\n",
       "      <td>2020</td>\n",
       "      <td>Diesel</td>\n",
       "      <td>1500</td>\n",
       "      <td>0.0</td>\n",
       "      <td>Automatic</td>\n",
       "      <td>47.1</td>\n",
       "      <td>145</td>\n",
       "      <td>33333</td>\n",
       "    </tr>\n",
       "    <tr>\n",
       "      <th>7518</th>\n",
       "      <td>Audi</td>\n",
       "      <td>Q3</td>\n",
       "      <td>2020</td>\n",
       "      <td>Petrol</td>\n",
       "      <td>1500</td>\n",
       "      <td>0.0</td>\n",
       "      <td>Automatic</td>\n",
       "      <td>32.5</td>\n",
       "      <td>145</td>\n",
       "      <td>29944</td>\n",
       "    </tr>\n",
       "    <tr>\n",
       "      <th>...</th>\n",
       "      <td>...</td>\n",
       "      <td>...</td>\n",
       "      <td>...</td>\n",
       "      <td>...</td>\n",
       "      <td>...</td>\n",
       "      <td>...</td>\n",
       "      <td>...</td>\n",
       "      <td>...</td>\n",
       "      <td>...</td>\n",
       "      <td>...</td>\n",
       "    </tr>\n",
       "    <tr>\n",
       "      <th>95678</th>\n",
       "      <td>Volkswagen</td>\n",
       "      <td>Tiguan</td>\n",
       "      <td>2016</td>\n",
       "      <td>Diesel</td>\n",
       "      <td>38398</td>\n",
       "      <td>0.0</td>\n",
       "      <td>Manual</td>\n",
       "      <td>53.3</td>\n",
       "      <td>145</td>\n",
       "      <td>15300</td>\n",
       "    </tr>\n",
       "    <tr>\n",
       "      <th>95685</th>\n",
       "      <td>Volkswagen</td>\n",
       "      <td>Tiguan</td>\n",
       "      <td>2018</td>\n",
       "      <td>Diesel</td>\n",
       "      <td>22200</td>\n",
       "      <td>0.0</td>\n",
       "      <td>Automatic</td>\n",
       "      <td>47.9</td>\n",
       "      <td>145</td>\n",
       "      <td>24000</td>\n",
       "    </tr>\n",
       "    <tr>\n",
       "      <th>96851</th>\n",
       "      <td>Volkswagen</td>\n",
       "      <td>Up</td>\n",
       "      <td>2017</td>\n",
       "      <td>Petrol</td>\n",
       "      <td>20324</td>\n",
       "      <td>0.0</td>\n",
       "      <td>Manual</td>\n",
       "      <td>64.2</td>\n",
       "      <td>20</td>\n",
       "      <td>8500</td>\n",
       "    </tr>\n",
       "    <tr>\n",
       "      <th>96909</th>\n",
       "      <td>Volkswagen</td>\n",
       "      <td>Up</td>\n",
       "      <td>2017</td>\n",
       "      <td>Petrol</td>\n",
       "      <td>24444</td>\n",
       "      <td>0.0</td>\n",
       "      <td>Manual</td>\n",
       "      <td>60.1</td>\n",
       "      <td>20</td>\n",
       "      <td>8000</td>\n",
       "    </tr>\n",
       "    <tr>\n",
       "      <th>97342</th>\n",
       "      <td>Volkswagen</td>\n",
       "      <td>Beetle</td>\n",
       "      <td>2017</td>\n",
       "      <td>Petrol</td>\n",
       "      <td>17859</td>\n",
       "      <td>0.0</td>\n",
       "      <td>Manual</td>\n",
       "      <td>53.3</td>\n",
       "      <td>125</td>\n",
       "      <td>13800</td>\n",
       "    </tr>\n",
       "  </tbody>\n",
       "</table>\n",
       "<p>272 rows × 10 columns</p>\n",
       "</div>"
      ],
      "text/plain": [
       "             make    model  year fuelType  mileage  engineSize transmission  \\\n",
       "7505         Audi       Q5  2019   Petrol     5886         0.0    Automatic   \n",
       "7506         Audi       Q3  2019   Diesel     1500         0.0    Automatic   \n",
       "7516         Audi       Q3  2020   Petrol     1500         0.0       Manual   \n",
       "7517         Audi       Q3  2020   Diesel     1500         0.0    Automatic   \n",
       "7518         Audi       Q3  2020   Petrol     1500         0.0    Automatic   \n",
       "...           ...      ...   ...      ...      ...         ...          ...   \n",
       "95678  Volkswagen   Tiguan  2016   Diesel    38398         0.0       Manual   \n",
       "95685  Volkswagen   Tiguan  2018   Diesel    22200         0.0    Automatic   \n",
       "96851  Volkswagen       Up  2017   Petrol    20324         0.0       Manual   \n",
       "96909  Volkswagen       Up  2017   Petrol    24444         0.0       Manual   \n",
       "97342  Volkswagen   Beetle  2017   Petrol    17859         0.0       Manual   \n",
       "\n",
       "         mpg  tax  price  \n",
       "7505   117.7  135  44790  \n",
       "7506    47.1  145  32788  \n",
       "7516    40.9  145  29944  \n",
       "7517    47.1  145  33333  \n",
       "7518    32.5  145  29944  \n",
       "...      ...  ...    ...  \n",
       "95678   53.3  145  15300  \n",
       "95685   47.9  145  24000  \n",
       "96851   64.2   20   8500  \n",
       "96909   60.1   20   8000  \n",
       "97342   53.3  125  13800  \n",
       "\n",
       "[272 rows x 10 columns]"
      ]
     },
     "execution_count": 18,
     "metadata": {},
     "output_type": "execute_result"
    }
   ],
   "source": [
    "df[df['engineSize'] == 0]"
   ]
  },
  {
   "cell_type": "markdown",
   "metadata": {},
   "source": [
    "We can see that there are 272 vehicles that supposedly have an engine size of 0. Let us determine whcih percentage of our dataset this is. "
   ]
  },
  {
   "cell_type": "code",
   "execution_count": 19,
   "metadata": {},
   "outputs": [
    {
     "data": {
      "text/plain": [
       "0.2742377802871431"
      ]
     },
     "execution_count": 19,
     "metadata": {},
     "output_type": "execute_result"
    }
   ],
   "source": [
    "len(df[df['engineSize'] == 0]) * 100 / len(df)"
   ]
  },
  {
   "cell_type": "markdown",
   "metadata": {},
   "source": [
    "We see that these vehicles account for less than a quarter of a percent of the total dataset. As a result, we can remove them."
   ]
  },
  {
   "cell_type": "code",
   "execution_count": 20,
   "metadata": {},
   "outputs": [],
   "source": [
    "engineIndex = df[df['engineSize']==0].index\n",
    "df = df.drop(engineIndex)"
   ]
  },
  {
   "cell_type": "markdown",
   "metadata": {},
   "source": [
    "Now that the vehicles with an engine size of 0 have been removed, let us investigate the vehicles with particularly low mileage. \n",
    "\n",
    "#### Mileage\n",
    "\n",
    "We observe that there are vehicles with a recorded mileage of 1. Let us find these vehicles."
   ]
  },
  {
   "cell_type": "code",
   "execution_count": 21,
   "metadata": {},
   "outputs": [
    {
     "data": {
      "text/html": [
       "<div>\n",
       "<style scoped>\n",
       "    .dataframe tbody tr th:only-of-type {\n",
       "        vertical-align: middle;\n",
       "    }\n",
       "\n",
       "    .dataframe tbody tr th {\n",
       "        vertical-align: top;\n",
       "    }\n",
       "\n",
       "    .dataframe thead th {\n",
       "        text-align: right;\n",
       "    }\n",
       "</style>\n",
       "<table border=\"1\" class=\"dataframe\">\n",
       "  <thead>\n",
       "    <tr style=\"text-align: right;\">\n",
       "      <th></th>\n",
       "      <th>make</th>\n",
       "      <th>model</th>\n",
       "      <th>year</th>\n",
       "      <th>fuelType</th>\n",
       "      <th>mileage</th>\n",
       "      <th>engineSize</th>\n",
       "      <th>transmission</th>\n",
       "      <th>mpg</th>\n",
       "      <th>tax</th>\n",
       "      <th>price</th>\n",
       "    </tr>\n",
       "  </thead>\n",
       "  <tbody>\n",
       "    <tr>\n",
       "      <th>5492</th>\n",
       "      <td>Audi</td>\n",
       "      <td>Q7</td>\n",
       "      <td>2019</td>\n",
       "      <td>Diesel</td>\n",
       "      <td>1</td>\n",
       "      <td>4.0</td>\n",
       "      <td>Automatic</td>\n",
       "      <td>30.1</td>\n",
       "      <td>145</td>\n",
       "      <td>69000</td>\n",
       "    </tr>\n",
       "    <tr>\n",
       "      <th>12818</th>\n",
       "      <td>BMW</td>\n",
       "      <td>X2</td>\n",
       "      <td>2020</td>\n",
       "      <td>Diesel</td>\n",
       "      <td>1</td>\n",
       "      <td>2.0</td>\n",
       "      <td>Semi-Auto</td>\n",
       "      <td>52.3</td>\n",
       "      <td>145</td>\n",
       "      <td>24490</td>\n",
       "    </tr>\n",
       "    <tr>\n",
       "      <th>28379</th>\n",
       "      <td>Ford</td>\n",
       "      <td>Fiesta</td>\n",
       "      <td>2017</td>\n",
       "      <td>Petrol</td>\n",
       "      <td>1</td>\n",
       "      <td>1.0</td>\n",
       "      <td>Manual</td>\n",
       "      <td>65.7</td>\n",
       "      <td>145</td>\n",
       "      <td>10995</td>\n",
       "    </tr>\n",
       "    <tr>\n",
       "      <th>28582</th>\n",
       "      <td>Ford</td>\n",
       "      <td>Fiesta</td>\n",
       "      <td>2017</td>\n",
       "      <td>Petrol</td>\n",
       "      <td>1</td>\n",
       "      <td>1.0</td>\n",
       "      <td>Manual</td>\n",
       "      <td>65.7</td>\n",
       "      <td>145</td>\n",
       "      <td>10995</td>\n",
       "    </tr>\n",
       "    <tr>\n",
       "      <th>32578</th>\n",
       "      <td>Ford</td>\n",
       "      <td>EcoSport</td>\n",
       "      <td>2019</td>\n",
       "      <td>Petrol</td>\n",
       "      <td>1</td>\n",
       "      <td>1.0</td>\n",
       "      <td>Semi-Auto</td>\n",
       "      <td>45.6</td>\n",
       "      <td>145</td>\n",
       "      <td>17900</td>\n",
       "    </tr>\n",
       "    <tr>\n",
       "      <th>32622</th>\n",
       "      <td>Ford</td>\n",
       "      <td>Focus</td>\n",
       "      <td>2019</td>\n",
       "      <td>Diesel</td>\n",
       "      <td>1</td>\n",
       "      <td>1.5</td>\n",
       "      <td>Manual</td>\n",
       "      <td>74.3</td>\n",
       "      <td>145</td>\n",
       "      <td>17880</td>\n",
       "    </tr>\n",
       "    <tr>\n",
       "      <th>38355</th>\n",
       "      <td>Ford</td>\n",
       "      <td>Mondeo</td>\n",
       "      <td>2008</td>\n",
       "      <td>Diesel</td>\n",
       "      <td>1</td>\n",
       "      <td>2.0</td>\n",
       "      <td>Manual</td>\n",
       "      <td>47.9</td>\n",
       "      <td>200</td>\n",
       "      <td>1299</td>\n",
       "    </tr>\n",
       "    <tr>\n",
       "      <th>38642</th>\n",
       "      <td>Ford</td>\n",
       "      <td>Edge</td>\n",
       "      <td>2019</td>\n",
       "      <td>Diesel</td>\n",
       "      <td>1</td>\n",
       "      <td>2.0</td>\n",
       "      <td>Automatic</td>\n",
       "      <td>37.2</td>\n",
       "      <td>145</td>\n",
       "      <td>33495</td>\n",
       "    </tr>\n",
       "    <tr>\n",
       "      <th>42083</th>\n",
       "      <td>Hyundai</td>\n",
       "      <td>Kona</td>\n",
       "      <td>2020</td>\n",
       "      <td>Petrol</td>\n",
       "      <td>1</td>\n",
       "      <td>1.0</td>\n",
       "      <td>Manual</td>\n",
       "      <td>44.1</td>\n",
       "      <td>145</td>\n",
       "      <td>21320</td>\n",
       "    </tr>\n",
       "    <tr>\n",
       "      <th>42107</th>\n",
       "      <td>Hyundai</td>\n",
       "      <td>Santa Fe</td>\n",
       "      <td>2019</td>\n",
       "      <td>Diesel</td>\n",
       "      <td>1</td>\n",
       "      <td>2.2</td>\n",
       "      <td>Semi-Auto</td>\n",
       "      <td>39.2</td>\n",
       "      <td>145</td>\n",
       "      <td>40365</td>\n",
       "    </tr>\n",
       "    <tr>\n",
       "      <th>42108</th>\n",
       "      <td>Hyundai</td>\n",
       "      <td>I20</td>\n",
       "      <td>2020</td>\n",
       "      <td>Petrol</td>\n",
       "      <td>1</td>\n",
       "      <td>1.2</td>\n",
       "      <td>Manual</td>\n",
       "      <td>46.3</td>\n",
       "      <td>145</td>\n",
       "      <td>14400</td>\n",
       "    </tr>\n",
       "    <tr>\n",
       "      <th>42109</th>\n",
       "      <td>Hyundai</td>\n",
       "      <td>I30</td>\n",
       "      <td>2019</td>\n",
       "      <td>Petrol</td>\n",
       "      <td>1</td>\n",
       "      <td>2.0</td>\n",
       "      <td>Manual</td>\n",
       "      <td>34.0</td>\n",
       "      <td>145</td>\n",
       "      <td>27800</td>\n",
       "    </tr>\n",
       "    <tr>\n",
       "      <th>50400</th>\n",
       "      <td>Mercedes</td>\n",
       "      <td>C Class</td>\n",
       "      <td>2019</td>\n",
       "      <td>Diesel</td>\n",
       "      <td>1</td>\n",
       "      <td>2.0</td>\n",
       "      <td>Semi-Auto</td>\n",
       "      <td>57.7</td>\n",
       "      <td>145</td>\n",
       "      <td>29995</td>\n",
       "    </tr>\n",
       "    <tr>\n",
       "      <th>50401</th>\n",
       "      <td>Mercedes</td>\n",
       "      <td>C Class</td>\n",
       "      <td>2019</td>\n",
       "      <td>Diesel</td>\n",
       "      <td>1</td>\n",
       "      <td>2.0</td>\n",
       "      <td>Semi-Auto</td>\n",
       "      <td>46.3</td>\n",
       "      <td>145</td>\n",
       "      <td>30995</td>\n",
       "    </tr>\n",
       "    <tr>\n",
       "      <th>50402</th>\n",
       "      <td>Mercedes</td>\n",
       "      <td>C Class</td>\n",
       "      <td>2019</td>\n",
       "      <td>Diesel</td>\n",
       "      <td>1</td>\n",
       "      <td>1.6</td>\n",
       "      <td>Semi-Auto</td>\n",
       "      <td>54.3</td>\n",
       "      <td>145</td>\n",
       "      <td>26995</td>\n",
       "    </tr>\n",
       "    <tr>\n",
       "      <th>50403</th>\n",
       "      <td>Mercedes</td>\n",
       "      <td>E Class</td>\n",
       "      <td>2019</td>\n",
       "      <td>Diesel</td>\n",
       "      <td>1</td>\n",
       "      <td>3.0</td>\n",
       "      <td>Semi-Auto</td>\n",
       "      <td>48.7</td>\n",
       "      <td>145</td>\n",
       "      <td>37995</td>\n",
       "    </tr>\n",
       "    <tr>\n",
       "      <th>72669</th>\n",
       "      <td>Vauxhall</td>\n",
       "      <td>Corsa</td>\n",
       "      <td>2019</td>\n",
       "      <td>Petrol</td>\n",
       "      <td>1</td>\n",
       "      <td>1.4</td>\n",
       "      <td>Manual</td>\n",
       "      <td>43.5</td>\n",
       "      <td>145</td>\n",
       "      <td>11995</td>\n",
       "    </tr>\n",
       "    <tr>\n",
       "      <th>73096</th>\n",
       "      <td>Vauxhall</td>\n",
       "      <td>Corsa</td>\n",
       "      <td>2020</td>\n",
       "      <td>Petrol</td>\n",
       "      <td>1</td>\n",
       "      <td>1.2</td>\n",
       "      <td>Manual</td>\n",
       "      <td>52.3</td>\n",
       "      <td>150</td>\n",
       "      <td>20000</td>\n",
       "    </tr>\n",
       "    <tr>\n",
       "      <th>74240</th>\n",
       "      <td>Vauxhall</td>\n",
       "      <td>Astra</td>\n",
       "      <td>2019</td>\n",
       "      <td>Petrol</td>\n",
       "      <td>1</td>\n",
       "      <td>1.4</td>\n",
       "      <td>Manual</td>\n",
       "      <td>47.9</td>\n",
       "      <td>145</td>\n",
       "      <td>14595</td>\n",
       "    </tr>\n",
       "    <tr>\n",
       "      <th>74913</th>\n",
       "      <td>Vauxhall</td>\n",
       "      <td>Astra</td>\n",
       "      <td>2017</td>\n",
       "      <td>Petrol</td>\n",
       "      <td>1</td>\n",
       "      <td>1.4</td>\n",
       "      <td>Semi-Auto</td>\n",
       "      <td>51.4</td>\n",
       "      <td>125</td>\n",
       "      <td>10990</td>\n",
       "    </tr>\n",
       "    <tr>\n",
       "      <th>75611</th>\n",
       "      <td>Vauxhall</td>\n",
       "      <td>Astra</td>\n",
       "      <td>2019</td>\n",
       "      <td>Petrol</td>\n",
       "      <td>1</td>\n",
       "      <td>1.4</td>\n",
       "      <td>Automatic</td>\n",
       "      <td>51.4</td>\n",
       "      <td>145</td>\n",
       "      <td>16495</td>\n",
       "    </tr>\n",
       "    <tr>\n",
       "      <th>75874</th>\n",
       "      <td>Vauxhall</td>\n",
       "      <td>Astra</td>\n",
       "      <td>2019</td>\n",
       "      <td>Diesel</td>\n",
       "      <td>1</td>\n",
       "      <td>1.6</td>\n",
       "      <td>Manual</td>\n",
       "      <td>72.4</td>\n",
       "      <td>145</td>\n",
       "      <td>14000</td>\n",
       "    </tr>\n",
       "    <tr>\n",
       "      <th>78239</th>\n",
       "      <td>Vauxhall</td>\n",
       "      <td>Mokka X</td>\n",
       "      <td>2019</td>\n",
       "      <td>Petrol</td>\n",
       "      <td>1</td>\n",
       "      <td>1.4</td>\n",
       "      <td>Manual</td>\n",
       "      <td>39.2</td>\n",
       "      <td>145</td>\n",
       "      <td>14995</td>\n",
       "    </tr>\n",
       "    <tr>\n",
       "      <th>78795</th>\n",
       "      <td>Vauxhall</td>\n",
       "      <td>Mokka X</td>\n",
       "      <td>2019</td>\n",
       "      <td>Petrol</td>\n",
       "      <td>1</td>\n",
       "      <td>1.4</td>\n",
       "      <td>Manual</td>\n",
       "      <td>39.2</td>\n",
       "      <td>145</td>\n",
       "      <td>22850</td>\n",
       "    </tr>\n",
       "    <tr>\n",
       "      <th>78829</th>\n",
       "      <td>Vauxhall</td>\n",
       "      <td>Mokka X</td>\n",
       "      <td>2019</td>\n",
       "      <td>Petrol</td>\n",
       "      <td>1</td>\n",
       "      <td>1.4</td>\n",
       "      <td>Manual</td>\n",
       "      <td>39.2</td>\n",
       "      <td>145</td>\n",
       "      <td>14490</td>\n",
       "    </tr>\n",
       "    <tr>\n",
       "      <th>80224</th>\n",
       "      <td>Vauxhall</td>\n",
       "      <td>Crossland X</td>\n",
       "      <td>2020</td>\n",
       "      <td>Petrol</td>\n",
       "      <td>1</td>\n",
       "      <td>1.2</td>\n",
       "      <td>Manual</td>\n",
       "      <td>47.1</td>\n",
       "      <td>145</td>\n",
       "      <td>13777</td>\n",
       "    </tr>\n",
       "    <tr>\n",
       "      <th>80510</th>\n",
       "      <td>Vauxhall</td>\n",
       "      <td>Crossland X</td>\n",
       "      <td>2019</td>\n",
       "      <td>Diesel</td>\n",
       "      <td>1</td>\n",
       "      <td>1.5</td>\n",
       "      <td>Manual</td>\n",
       "      <td>61.4</td>\n",
       "      <td>145</td>\n",
       "      <td>20995</td>\n",
       "    </tr>\n",
       "    <tr>\n",
       "      <th>80511</th>\n",
       "      <td>Vauxhall</td>\n",
       "      <td>Crossland X</td>\n",
       "      <td>2019</td>\n",
       "      <td>Petrol</td>\n",
       "      <td>1</td>\n",
       "      <td>1.2</td>\n",
       "      <td>Manual</td>\n",
       "      <td>47.1</td>\n",
       "      <td>145</td>\n",
       "      <td>19995</td>\n",
       "    </tr>\n",
       "    <tr>\n",
       "      <th>82470</th>\n",
       "      <td>Vauxhall</td>\n",
       "      <td>Grandland X</td>\n",
       "      <td>2019</td>\n",
       "      <td>Petrol</td>\n",
       "      <td>1</td>\n",
       "      <td>1.2</td>\n",
       "      <td>Manual</td>\n",
       "      <td>44.1</td>\n",
       "      <td>145</td>\n",
       "      <td>24995</td>\n",
       "    </tr>\n",
       "    <tr>\n",
       "      <th>83947</th>\n",
       "      <td>Vauxhall</td>\n",
       "      <td>Combo Life</td>\n",
       "      <td>2019</td>\n",
       "      <td>Diesel</td>\n",
       "      <td>1</td>\n",
       "      <td>1.5</td>\n",
       "      <td>Manual</td>\n",
       "      <td>53.3</td>\n",
       "      <td>145</td>\n",
       "      <td>14634</td>\n",
       "    </tr>\n",
       "    <tr>\n",
       "      <th>83949</th>\n",
       "      <td>Vauxhall</td>\n",
       "      <td>Combo Life</td>\n",
       "      <td>2019</td>\n",
       "      <td>Diesel</td>\n",
       "      <td>1</td>\n",
       "      <td>1.5</td>\n",
       "      <td>Automatic</td>\n",
       "      <td>50.4</td>\n",
       "      <td>145</td>\n",
       "      <td>20499</td>\n",
       "    </tr>\n",
       "    <tr>\n",
       "      <th>83953</th>\n",
       "      <td>Vauxhall</td>\n",
       "      <td>Combo Life</td>\n",
       "      <td>2019</td>\n",
       "      <td>Petrol</td>\n",
       "      <td>1</td>\n",
       "      <td>1.2</td>\n",
       "      <td>Manual</td>\n",
       "      <td>42.2</td>\n",
       "      <td>145</td>\n",
       "      <td>18448</td>\n",
       "    </tr>\n",
       "    <tr>\n",
       "      <th>85239</th>\n",
       "      <td>Volkswagen</td>\n",
       "      <td>Golf</td>\n",
       "      <td>2019</td>\n",
       "      <td>Diesel</td>\n",
       "      <td>1</td>\n",
       "      <td>1.6</td>\n",
       "      <td>Manual</td>\n",
       "      <td>57.7</td>\n",
       "      <td>145</td>\n",
       "      <td>17898</td>\n",
       "    </tr>\n",
       "    <tr>\n",
       "      <th>89276</th>\n",
       "      <td>Volkswagen</td>\n",
       "      <td>Golf</td>\n",
       "      <td>2008</td>\n",
       "      <td>Diesel</td>\n",
       "      <td>1</td>\n",
       "      <td>1.9</td>\n",
       "      <td>Manual</td>\n",
       "      <td>53.3</td>\n",
       "      <td>145</td>\n",
       "      <td>1299</td>\n",
       "    </tr>\n",
       "    <tr>\n",
       "      <th>89467</th>\n",
       "      <td>Volkswagen</td>\n",
       "      <td>Golf</td>\n",
       "      <td>2019</td>\n",
       "      <td>Petrol</td>\n",
       "      <td>1</td>\n",
       "      <td>1.0</td>\n",
       "      <td>Manual</td>\n",
       "      <td>48.7</td>\n",
       "      <td>145</td>\n",
       "      <td>17000</td>\n",
       "    </tr>\n",
       "    <tr>\n",
       "      <th>92150</th>\n",
       "      <td>Volkswagen</td>\n",
       "      <td>Polo</td>\n",
       "      <td>2020</td>\n",
       "      <td>Petrol</td>\n",
       "      <td>1</td>\n",
       "      <td>1.0</td>\n",
       "      <td>Manual</td>\n",
       "      <td>50.4</td>\n",
       "      <td>150</td>\n",
       "      <td>16990</td>\n",
       "    </tr>\n",
       "    <tr>\n",
       "      <th>93897</th>\n",
       "      <td>Volkswagen</td>\n",
       "      <td>Polo</td>\n",
       "      <td>2016</td>\n",
       "      <td>Petrol</td>\n",
       "      <td>1</td>\n",
       "      <td>1.2</td>\n",
       "      <td>Manual</td>\n",
       "      <td>60.1</td>\n",
       "      <td>20</td>\n",
       "      <td>8690</td>\n",
       "    </tr>\n",
       "    <tr>\n",
       "      <th>94005</th>\n",
       "      <td>Volkswagen</td>\n",
       "      <td>Polo</td>\n",
       "      <td>2019</td>\n",
       "      <td>Petrol</td>\n",
       "      <td>1</td>\n",
       "      <td>1.0</td>\n",
       "      <td>Automatic</td>\n",
       "      <td>46.3</td>\n",
       "      <td>145</td>\n",
       "      <td>18495</td>\n",
       "    </tr>\n",
       "    <tr>\n",
       "      <th>94008</th>\n",
       "      <td>Volkswagen</td>\n",
       "      <td>Polo</td>\n",
       "      <td>2019</td>\n",
       "      <td>Petrol</td>\n",
       "      <td>1</td>\n",
       "      <td>1.0</td>\n",
       "      <td>Manual</td>\n",
       "      <td>52.3</td>\n",
       "      <td>145</td>\n",
       "      <td>15799</td>\n",
       "    </tr>\n",
       "    <tr>\n",
       "      <th>94371</th>\n",
       "      <td>Volkswagen</td>\n",
       "      <td>Tiguan</td>\n",
       "      <td>2019</td>\n",
       "      <td>Diesel</td>\n",
       "      <td>1</td>\n",
       "      <td>2.0</td>\n",
       "      <td>Semi-Auto</td>\n",
       "      <td>45.6</td>\n",
       "      <td>145</td>\n",
       "      <td>27998</td>\n",
       "    </tr>\n",
       "    <tr>\n",
       "      <th>97008</th>\n",
       "      <td>Volkswagen</td>\n",
       "      <td>Up</td>\n",
       "      <td>2019</td>\n",
       "      <td>Petrol</td>\n",
       "      <td>1</td>\n",
       "      <td>1.0</td>\n",
       "      <td>Manual</td>\n",
       "      <td>54.3</td>\n",
       "      <td>145</td>\n",
       "      <td>9889</td>\n",
       "    </tr>\n",
       "    <tr>\n",
       "      <th>97353</th>\n",
       "      <td>Volkswagen</td>\n",
       "      <td>Beetle</td>\n",
       "      <td>2001</td>\n",
       "      <td>Petrol</td>\n",
       "      <td>1</td>\n",
       "      <td>2.0</td>\n",
       "      <td>Automatic</td>\n",
       "      <td>29.7</td>\n",
       "      <td>325</td>\n",
       "      <td>899</td>\n",
       "    </tr>\n",
       "    <tr>\n",
       "      <th>99017</th>\n",
       "      <td>Volkswagen</td>\n",
       "      <td>Jetta</td>\n",
       "      <td>2014</td>\n",
       "      <td>Diesel</td>\n",
       "      <td>1</td>\n",
       "      <td>1.6</td>\n",
       "      <td>Manual</td>\n",
       "      <td>67.3</td>\n",
       "      <td>20</td>\n",
       "      <td>7985</td>\n",
       "    </tr>\n",
       "  </tbody>\n",
       "</table>\n",
       "</div>"
      ],
      "text/plain": [
       "             make         model  year fuelType  mileage  engineSize  \\\n",
       "5492         Audi            Q7  2019   Diesel        1         4.0   \n",
       "12818         BMW            X2  2020   Diesel        1         2.0   \n",
       "28379        Ford        Fiesta  2017   Petrol        1         1.0   \n",
       "28582        Ford        Fiesta  2017   Petrol        1         1.0   \n",
       "32578        Ford      EcoSport  2019   Petrol        1         1.0   \n",
       "32622        Ford         Focus  2019   Diesel        1         1.5   \n",
       "38355        Ford        Mondeo  2008   Diesel        1         2.0   \n",
       "38642        Ford          Edge  2019   Diesel        1         2.0   \n",
       "42083     Hyundai          Kona  2020   Petrol        1         1.0   \n",
       "42107     Hyundai      Santa Fe  2019   Diesel        1         2.2   \n",
       "42108     Hyundai           I20  2020   Petrol        1         1.2   \n",
       "42109     Hyundai           I30  2019   Petrol        1         2.0   \n",
       "50400    Mercedes       C Class  2019   Diesel        1         2.0   \n",
       "50401    Mercedes       C Class  2019   Diesel        1         2.0   \n",
       "50402    Mercedes       C Class  2019   Diesel        1         1.6   \n",
       "50403    Mercedes       E Class  2019   Diesel        1         3.0   \n",
       "72669    Vauxhall         Corsa  2019   Petrol        1         1.4   \n",
       "73096    Vauxhall         Corsa  2020   Petrol        1         1.2   \n",
       "74240    Vauxhall         Astra  2019   Petrol        1         1.4   \n",
       "74913    Vauxhall         Astra  2017   Petrol        1         1.4   \n",
       "75611    Vauxhall         Astra  2019   Petrol        1         1.4   \n",
       "75874    Vauxhall         Astra  2019   Diesel        1         1.6   \n",
       "78239    Vauxhall       Mokka X  2019   Petrol        1         1.4   \n",
       "78795    Vauxhall       Mokka X  2019   Petrol        1         1.4   \n",
       "78829    Vauxhall       Mokka X  2019   Petrol        1         1.4   \n",
       "80224    Vauxhall   Crossland X  2020   Petrol        1         1.2   \n",
       "80510    Vauxhall   Crossland X  2019   Diesel        1         1.5   \n",
       "80511    Vauxhall   Crossland X  2019   Petrol        1         1.2   \n",
       "82470    Vauxhall   Grandland X  2019   Petrol        1         1.2   \n",
       "83947    Vauxhall    Combo Life  2019   Diesel        1         1.5   \n",
       "83949    Vauxhall    Combo Life  2019   Diesel        1         1.5   \n",
       "83953    Vauxhall    Combo Life  2019   Petrol        1         1.2   \n",
       "85239  Volkswagen          Golf  2019   Diesel        1         1.6   \n",
       "89276  Volkswagen          Golf  2008   Diesel        1         1.9   \n",
       "89467  Volkswagen          Golf  2019   Petrol        1         1.0   \n",
       "92150  Volkswagen          Polo  2020   Petrol        1         1.0   \n",
       "93897  Volkswagen          Polo  2016   Petrol        1         1.2   \n",
       "94005  Volkswagen          Polo  2019   Petrol        1         1.0   \n",
       "94008  Volkswagen          Polo  2019   Petrol        1         1.0   \n",
       "94371  Volkswagen        Tiguan  2019   Diesel        1         2.0   \n",
       "97008  Volkswagen            Up  2019   Petrol        1         1.0   \n",
       "97353  Volkswagen        Beetle  2001   Petrol        1         2.0   \n",
       "99017  Volkswagen         Jetta  2014   Diesel        1         1.6   \n",
       "\n",
       "      transmission   mpg  tax  price  \n",
       "5492     Automatic  30.1  145  69000  \n",
       "12818    Semi-Auto  52.3  145  24490  \n",
       "28379       Manual  65.7  145  10995  \n",
       "28582       Manual  65.7  145  10995  \n",
       "32578    Semi-Auto  45.6  145  17900  \n",
       "32622       Manual  74.3  145  17880  \n",
       "38355       Manual  47.9  200   1299  \n",
       "38642    Automatic  37.2  145  33495  \n",
       "42083       Manual  44.1  145  21320  \n",
       "42107    Semi-Auto  39.2  145  40365  \n",
       "42108       Manual  46.3  145  14400  \n",
       "42109       Manual  34.0  145  27800  \n",
       "50400    Semi-Auto  57.7  145  29995  \n",
       "50401    Semi-Auto  46.3  145  30995  \n",
       "50402    Semi-Auto  54.3  145  26995  \n",
       "50403    Semi-Auto  48.7  145  37995  \n",
       "72669       Manual  43.5  145  11995  \n",
       "73096       Manual  52.3  150  20000  \n",
       "74240       Manual  47.9  145  14595  \n",
       "74913    Semi-Auto  51.4  125  10990  \n",
       "75611    Automatic  51.4  145  16495  \n",
       "75874       Manual  72.4  145  14000  \n",
       "78239       Manual  39.2  145  14995  \n",
       "78795       Manual  39.2  145  22850  \n",
       "78829       Manual  39.2  145  14490  \n",
       "80224       Manual  47.1  145  13777  \n",
       "80510       Manual  61.4  145  20995  \n",
       "80511       Manual  47.1  145  19995  \n",
       "82470       Manual  44.1  145  24995  \n",
       "83947       Manual  53.3  145  14634  \n",
       "83949    Automatic  50.4  145  20499  \n",
       "83953       Manual  42.2  145  18448  \n",
       "85239       Manual  57.7  145  17898  \n",
       "89276       Manual  53.3  145   1299  \n",
       "89467       Manual  48.7  145  17000  \n",
       "92150       Manual  50.4  150  16990  \n",
       "93897       Manual  60.1   20   8690  \n",
       "94005    Automatic  46.3  145  18495  \n",
       "94008       Manual  52.3  145  15799  \n",
       "94371    Semi-Auto  45.6  145  27998  \n",
       "97008       Manual  54.3  145   9889  \n",
       "97353    Automatic  29.7  325    899  \n",
       "99017       Manual  67.3   20   7985  "
      ]
     },
     "execution_count": 21,
     "metadata": {},
     "output_type": "execute_result"
    }
   ],
   "source": [
    "df[df['mileage']==1]"
   ]
  },
  {
   "cell_type": "markdown",
   "metadata": {},
   "source": [
    "Some of these vehicles were first registered in 2020 and therefore a mileage of 1 is understandable. However, for vehicles registered before this, a mileage value this low does not make sense. Let us see the percentage of our dataset which are vehicles registered in 2019 or before than have a mileage figure of 1."
   ]
  },
  {
   "cell_type": "code",
   "execution_count": 22,
   "metadata": {},
   "outputs": [
    {
     "data": {
      "text/plain": [
       "0.03740698802976383"
      ]
     },
     "execution_count": 22,
     "metadata": {},
     "output_type": "execute_result"
    }
   ],
   "source": [
    "len(df[(df['mileage']==1) & (df['year']<= 2019)]) * 100 / len(df)"
   ]
  },
  {
   "cell_type": "markdown",
   "metadata": {},
   "source": [
    "Once again, this is such a small percentage of our entire dataset that removing them will not affect our ability to accurately predict the prices of used cars. As a result, these vehicles shall be removed."
   ]
  },
  {
   "cell_type": "code",
   "execution_count": 23,
   "metadata": {},
   "outputs": [],
   "source": [
    "mileageIndex = df[(df['mileage']==1) & (df['year']<= 2019)].index\n",
    "df = df.drop(mileageIndex)"
   ]
  },
  {
   "cell_type": "markdown",
   "metadata": {},
   "source": [
    "#### Tax\n",
    "\n",
    "Since tax payments are made on almost all vehicles purchased in the UK, let us now investigate the vehicles that have a recorded tax value of 0."
   ]
  },
  {
   "cell_type": "code",
   "execution_count": 24,
   "metadata": {},
   "outputs": [
    {
     "data": {
      "text/html": [
       "<div>\n",
       "<style scoped>\n",
       "    .dataframe tbody tr th:only-of-type {\n",
       "        vertical-align: middle;\n",
       "    }\n",
       "\n",
       "    .dataframe tbody tr th {\n",
       "        vertical-align: top;\n",
       "    }\n",
       "\n",
       "    .dataframe thead th {\n",
       "        text-align: right;\n",
       "    }\n",
       "</style>\n",
       "<table border=\"1\" class=\"dataframe\">\n",
       "  <thead>\n",
       "    <tr style=\"text-align: right;\">\n",
       "      <th></th>\n",
       "      <th>make</th>\n",
       "      <th>model</th>\n",
       "      <th>year</th>\n",
       "      <th>fuelType</th>\n",
       "      <th>mileage</th>\n",
       "      <th>engineSize</th>\n",
       "      <th>transmission</th>\n",
       "      <th>mpg</th>\n",
       "      <th>tax</th>\n",
       "      <th>price</th>\n",
       "    </tr>\n",
       "  </thead>\n",
       "  <tbody>\n",
       "    <tr>\n",
       "      <th>30</th>\n",
       "      <td>Audi</td>\n",
       "      <td>A1</td>\n",
       "      <td>2015</td>\n",
       "      <td>Diesel</td>\n",
       "      <td>54754</td>\n",
       "      <td>1.6</td>\n",
       "      <td>Automatic</td>\n",
       "      <td>76.3</td>\n",
       "      <td>0</td>\n",
       "      <td>9500</td>\n",
       "    </tr>\n",
       "    <tr>\n",
       "      <th>50</th>\n",
       "      <td>Audi</td>\n",
       "      <td>A4</td>\n",
       "      <td>2016</td>\n",
       "      <td>Diesel</td>\n",
       "      <td>52561</td>\n",
       "      <td>2.0</td>\n",
       "      <td>Manual</td>\n",
       "      <td>74.3</td>\n",
       "      <td>0</td>\n",
       "      <td>12750</td>\n",
       "    </tr>\n",
       "    <tr>\n",
       "      <th>58</th>\n",
       "      <td>Audi</td>\n",
       "      <td>A3</td>\n",
       "      <td>2016</td>\n",
       "      <td>Diesel</td>\n",
       "      <td>66369</td>\n",
       "      <td>1.6</td>\n",
       "      <td>Manual</td>\n",
       "      <td>83.1</td>\n",
       "      <td>0</td>\n",
       "      <td>10200</td>\n",
       "    </tr>\n",
       "    <tr>\n",
       "      <th>60</th>\n",
       "      <td>Audi</td>\n",
       "      <td>A1</td>\n",
       "      <td>2013</td>\n",
       "      <td>Diesel</td>\n",
       "      <td>76269</td>\n",
       "      <td>1.6</td>\n",
       "      <td>Manual</td>\n",
       "      <td>74.3</td>\n",
       "      <td>0</td>\n",
       "      <td>7000</td>\n",
       "    </tr>\n",
       "    <tr>\n",
       "      <th>69</th>\n",
       "      <td>Audi</td>\n",
       "      <td>A1</td>\n",
       "      <td>2016</td>\n",
       "      <td>Petrol</td>\n",
       "      <td>18181</td>\n",
       "      <td>1.0</td>\n",
       "      <td>Manual</td>\n",
       "      <td>67.3</td>\n",
       "      <td>0</td>\n",
       "      <td>10800</td>\n",
       "    </tr>\n",
       "    <tr>\n",
       "      <th>...</th>\n",
       "      <td>...</td>\n",
       "      <td>...</td>\n",
       "      <td>...</td>\n",
       "      <td>...</td>\n",
       "      <td>...</td>\n",
       "      <td>...</td>\n",
       "      <td>...</td>\n",
       "      <td>...</td>\n",
       "      <td>...</td>\n",
       "      <td>...</td>\n",
       "    </tr>\n",
       "    <tr>\n",
       "      <th>98724</th>\n",
       "      <td>Volkswagen</td>\n",
       "      <td>Golf SV</td>\n",
       "      <td>2016</td>\n",
       "      <td>Diesel</td>\n",
       "      <td>16739</td>\n",
       "      <td>1.6</td>\n",
       "      <td>Manual</td>\n",
       "      <td>72.4</td>\n",
       "      <td>0</td>\n",
       "      <td>10550</td>\n",
       "    </tr>\n",
       "    <tr>\n",
       "      <th>98726</th>\n",
       "      <td>Volkswagen</td>\n",
       "      <td>Golf SV</td>\n",
       "      <td>2015</td>\n",
       "      <td>Diesel</td>\n",
       "      <td>45000</td>\n",
       "      <td>1.6</td>\n",
       "      <td>Manual</td>\n",
       "      <td>72.4</td>\n",
       "      <td>0</td>\n",
       "      <td>8950</td>\n",
       "    </tr>\n",
       "    <tr>\n",
       "      <th>98731</th>\n",
       "      <td>Volkswagen</td>\n",
       "      <td>Golf SV</td>\n",
       "      <td>2015</td>\n",
       "      <td>Diesel</td>\n",
       "      <td>21151</td>\n",
       "      <td>1.6</td>\n",
       "      <td>Manual</td>\n",
       "      <td>72.4</td>\n",
       "      <td>0</td>\n",
       "      <td>9695</td>\n",
       "    </tr>\n",
       "    <tr>\n",
       "      <th>98751</th>\n",
       "      <td>Volkswagen</td>\n",
       "      <td>Golf SV</td>\n",
       "      <td>2014</td>\n",
       "      <td>Diesel</td>\n",
       "      <td>32535</td>\n",
       "      <td>1.6</td>\n",
       "      <td>Manual</td>\n",
       "      <td>72.4</td>\n",
       "      <td>0</td>\n",
       "      <td>8650</td>\n",
       "    </tr>\n",
       "    <tr>\n",
       "      <th>98752</th>\n",
       "      <td>Volkswagen</td>\n",
       "      <td>Golf SV</td>\n",
       "      <td>2017</td>\n",
       "      <td>Diesel</td>\n",
       "      <td>71600</td>\n",
       "      <td>1.6</td>\n",
       "      <td>Manual</td>\n",
       "      <td>72.4</td>\n",
       "      <td>0</td>\n",
       "      <td>7995</td>\n",
       "    </tr>\n",
       "  </tbody>\n",
       "</table>\n",
       "<p>6255 rows × 10 columns</p>\n",
       "</div>"
      ],
      "text/plain": [
       "             make     model  year fuelType  mileage  engineSize transmission  \\\n",
       "30           Audi        A1  2015   Diesel    54754         1.6    Automatic   \n",
       "50           Audi        A4  2016   Diesel    52561         2.0       Manual   \n",
       "58           Audi        A3  2016   Diesel    66369         1.6       Manual   \n",
       "60           Audi        A1  2013   Diesel    76269         1.6       Manual   \n",
       "69           Audi        A1  2016   Petrol    18181         1.0       Manual   \n",
       "...           ...       ...   ...      ...      ...         ...          ...   \n",
       "98724  Volkswagen   Golf SV  2016   Diesel    16739         1.6       Manual   \n",
       "98726  Volkswagen   Golf SV  2015   Diesel    45000         1.6       Manual   \n",
       "98731  Volkswagen   Golf SV  2015   Diesel    21151         1.6       Manual   \n",
       "98751  Volkswagen   Golf SV  2014   Diesel    32535         1.6       Manual   \n",
       "98752  Volkswagen   Golf SV  2017   Diesel    71600         1.6       Manual   \n",
       "\n",
       "        mpg  tax  price  \n",
       "30     76.3    0   9500  \n",
       "50     74.3    0  12750  \n",
       "58     83.1    0  10200  \n",
       "60     74.3    0   7000  \n",
       "69     67.3    0  10800  \n",
       "...     ...  ...    ...  \n",
       "98724  72.4    0  10550  \n",
       "98726  72.4    0   8950  \n",
       "98731  72.4    0   9695  \n",
       "98751  72.4    0   8650  \n",
       "98752  72.4    0   7995  \n",
       "\n",
       "[6255 rows x 10 columns]"
      ]
     },
     "execution_count": 24,
     "metadata": {},
     "output_type": "execute_result"
    }
   ],
   "source": [
    "df[df['tax'] == 0]"
   ]
  },
  {
   "cell_type": "code",
   "execution_count": 25,
   "metadata": {},
   "outputs": [
    {
     "data": {
      "text/plain": [
       "6.326169405815423"
      ]
     },
     "execution_count": 25,
     "metadata": {},
     "output_type": "execute_result"
    }
   ],
   "source": [
    "len(df[df['tax'] == 0]) * 100 / len(df)"
   ]
  },
  {
   "cell_type": "markdown",
   "metadata": {},
   "source": [
    "Since car tax payments within the UK are based on the age of the vehicle, its CO2 emissions, and various other factors, we are not able to impute these values with estimates of the tax that should be paid. As a result, since the vehicles in question account for only 6% of the total dataset, and the fact the our dataset is rather large, we can simply remove these cars."
   ]
  },
  {
   "cell_type": "code",
   "execution_count": 26,
   "metadata": {},
   "outputs": [],
   "source": [
    "taxindex = df[df['tax']==0].index\n",
    "df = df.drop(taxindex)"
   ]
  },
  {
   "cell_type": "markdown",
   "metadata": {},
   "source": [
    "#### MPG\n",
    "\n",
    "Finally, let us now investigate vehicles that have a recorded MPG value of less than 5."
   ]
  },
  {
   "cell_type": "code",
   "execution_count": 27,
   "metadata": {},
   "outputs": [
    {
     "data": {
      "text/html": [
       "<div>\n",
       "<style scoped>\n",
       "    .dataframe tbody tr th:only-of-type {\n",
       "        vertical-align: middle;\n",
       "    }\n",
       "\n",
       "    .dataframe tbody tr th {\n",
       "        vertical-align: top;\n",
       "    }\n",
       "\n",
       "    .dataframe thead th {\n",
       "        text-align: right;\n",
       "    }\n",
       "</style>\n",
       "<table border=\"1\" class=\"dataframe\">\n",
       "  <thead>\n",
       "    <tr style=\"text-align: right;\">\n",
       "      <th></th>\n",
       "      <th>make</th>\n",
       "      <th>model</th>\n",
       "      <th>year</th>\n",
       "      <th>fuelType</th>\n",
       "      <th>mileage</th>\n",
       "      <th>engineSize</th>\n",
       "      <th>transmission</th>\n",
       "      <th>mpg</th>\n",
       "      <th>tax</th>\n",
       "      <th>price</th>\n",
       "    </tr>\n",
       "  </thead>\n",
       "  <tbody>\n",
       "    <tr>\n",
       "      <th>39624</th>\n",
       "      <td>Hyundai</td>\n",
       "      <td>Ioniq</td>\n",
       "      <td>2019</td>\n",
       "      <td>Hybrid</td>\n",
       "      <td>2844</td>\n",
       "      <td>1.6</td>\n",
       "      <td>Automatic</td>\n",
       "      <td>1.1</td>\n",
       "      <td>140</td>\n",
       "      <td>22998</td>\n",
       "    </tr>\n",
       "    <tr>\n",
       "      <th>40222</th>\n",
       "      <td>Hyundai</td>\n",
       "      <td>Ioniq</td>\n",
       "      <td>2020</td>\n",
       "      <td>Hybrid</td>\n",
       "      <td>4152</td>\n",
       "      <td>1.6</td>\n",
       "      <td>Automatic</td>\n",
       "      <td>1.1</td>\n",
       "      <td>135</td>\n",
       "      <td>23895</td>\n",
       "    </tr>\n",
       "    <tr>\n",
       "      <th>42364</th>\n",
       "      <td>Hyundai</td>\n",
       "      <td>Ioniq</td>\n",
       "      <td>2020</td>\n",
       "      <td>Hybrid</td>\n",
       "      <td>1290</td>\n",
       "      <td>1.6</td>\n",
       "      <td>Automatic</td>\n",
       "      <td>1.1</td>\n",
       "      <td>135</td>\n",
       "      <td>26995</td>\n",
       "    </tr>\n",
       "    <tr>\n",
       "      <th>44220</th>\n",
       "      <td>Hyundai</td>\n",
       "      <td>Ioniq</td>\n",
       "      <td>2020</td>\n",
       "      <td>Hybrid</td>\n",
       "      <td>5213</td>\n",
       "      <td>1.6</td>\n",
       "      <td>Automatic</td>\n",
       "      <td>1.1</td>\n",
       "      <td>135</td>\n",
       "      <td>28995</td>\n",
       "    </tr>\n",
       "    <tr>\n",
       "      <th>46798</th>\n",
       "      <td>Mercedes</td>\n",
       "      <td>A Class</td>\n",
       "      <td>2020</td>\n",
       "      <td>Hybrid</td>\n",
       "      <td>4000</td>\n",
       "      <td>1.3</td>\n",
       "      <td>Semi-Auto</td>\n",
       "      <td>1.1</td>\n",
       "      <td>140</td>\n",
       "      <td>30231</td>\n",
       "    </tr>\n",
       "    <tr>\n",
       "      <th>46834</th>\n",
       "      <td>Mercedes</td>\n",
       "      <td>A Class</td>\n",
       "      <td>2020</td>\n",
       "      <td>Hybrid</td>\n",
       "      <td>4000</td>\n",
       "      <td>1.3</td>\n",
       "      <td>Semi-Auto</td>\n",
       "      <td>1.1</td>\n",
       "      <td>140</td>\n",
       "      <td>30231</td>\n",
       "    </tr>\n",
       "    <tr>\n",
       "      <th>51244</th>\n",
       "      <td>Mercedes</td>\n",
       "      <td>A Class</td>\n",
       "      <td>2020</td>\n",
       "      <td>Hybrid</td>\n",
       "      <td>1000</td>\n",
       "      <td>1.3</td>\n",
       "      <td>Semi-Auto</td>\n",
       "      <td>1.1</td>\n",
       "      <td>135</td>\n",
       "      <td>31500</td>\n",
       "    </tr>\n",
       "    <tr>\n",
       "      <th>54640</th>\n",
       "      <td>Mercedes</td>\n",
       "      <td>A Class</td>\n",
       "      <td>2020</td>\n",
       "      <td>Hybrid</td>\n",
       "      <td>345</td>\n",
       "      <td>1.3</td>\n",
       "      <td>Automatic</td>\n",
       "      <td>1.1</td>\n",
       "      <td>140</td>\n",
       "      <td>33900</td>\n",
       "    </tr>\n",
       "    <tr>\n",
       "      <th>70212</th>\n",
       "      <td>Toyota</td>\n",
       "      <td>Hilux</td>\n",
       "      <td>2019</td>\n",
       "      <td>Diesel</td>\n",
       "      <td>3350</td>\n",
       "      <td>2.4</td>\n",
       "      <td>Automatic</td>\n",
       "      <td>2.8</td>\n",
       "      <td>260</td>\n",
       "      <td>28495</td>\n",
       "    </tr>\n",
       "    <tr>\n",
       "      <th>70222</th>\n",
       "      <td>Toyota</td>\n",
       "      <td>Hilux</td>\n",
       "      <td>2020</td>\n",
       "      <td>Diesel</td>\n",
       "      <td>50</td>\n",
       "      <td>2.4</td>\n",
       "      <td>Manual</td>\n",
       "      <td>2.8</td>\n",
       "      <td>260</td>\n",
       "      <td>18495</td>\n",
       "    </tr>\n",
       "    <tr>\n",
       "      <th>70223</th>\n",
       "      <td>Toyota</td>\n",
       "      <td>Hilux</td>\n",
       "      <td>2020</td>\n",
       "      <td>Diesel</td>\n",
       "      <td>100</td>\n",
       "      <td>2.4</td>\n",
       "      <td>Manual</td>\n",
       "      <td>2.8</td>\n",
       "      <td>260</td>\n",
       "      <td>23495</td>\n",
       "    </tr>\n",
       "    <tr>\n",
       "      <th>70235</th>\n",
       "      <td>Toyota</td>\n",
       "      <td>Hilux</td>\n",
       "      <td>2019</td>\n",
       "      <td>Diesel</td>\n",
       "      <td>7123</td>\n",
       "      <td>2.4</td>\n",
       "      <td>Automatic</td>\n",
       "      <td>2.8</td>\n",
       "      <td>260</td>\n",
       "      <td>26500</td>\n",
       "    </tr>\n",
       "    <tr>\n",
       "      <th>70236</th>\n",
       "      <td>Toyota</td>\n",
       "      <td>Hilux</td>\n",
       "      <td>2019</td>\n",
       "      <td>Diesel</td>\n",
       "      <td>5190</td>\n",
       "      <td>2.4</td>\n",
       "      <td>Manual</td>\n",
       "      <td>2.8</td>\n",
       "      <td>260</td>\n",
       "      <td>20500</td>\n",
       "    </tr>\n",
       "    <tr>\n",
       "      <th>70243</th>\n",
       "      <td>Toyota</td>\n",
       "      <td>Hilux</td>\n",
       "      <td>2019</td>\n",
       "      <td>Diesel</td>\n",
       "      <td>4</td>\n",
       "      <td>2.4</td>\n",
       "      <td>Automatic</td>\n",
       "      <td>2.8</td>\n",
       "      <td>265</td>\n",
       "      <td>26995</td>\n",
       "    </tr>\n",
       "    <tr>\n",
       "      <th>70254</th>\n",
       "      <td>Toyota</td>\n",
       "      <td>Hilux</td>\n",
       "      <td>2020</td>\n",
       "      <td>Diesel</td>\n",
       "      <td>1259</td>\n",
       "      <td>2.4</td>\n",
       "      <td>Automatic</td>\n",
       "      <td>2.8</td>\n",
       "      <td>265</td>\n",
       "      <td>39257</td>\n",
       "    </tr>\n",
       "    <tr>\n",
       "      <th>70255</th>\n",
       "      <td>Toyota</td>\n",
       "      <td>Hilux</td>\n",
       "      <td>2019</td>\n",
       "      <td>Diesel</td>\n",
       "      <td>10250</td>\n",
       "      <td>2.4</td>\n",
       "      <td>Automatic</td>\n",
       "      <td>2.8</td>\n",
       "      <td>260</td>\n",
       "      <td>27850</td>\n",
       "    </tr>\n",
       "    <tr>\n",
       "      <th>70256</th>\n",
       "      <td>Toyota</td>\n",
       "      <td>Hilux</td>\n",
       "      <td>2020</td>\n",
       "      <td>Diesel</td>\n",
       "      <td>5000</td>\n",
       "      <td>2.4</td>\n",
       "      <td>Automatic</td>\n",
       "      <td>2.8</td>\n",
       "      <td>260</td>\n",
       "      <td>30500</td>\n",
       "    </tr>\n",
       "    <tr>\n",
       "      <th>70277</th>\n",
       "      <td>Toyota</td>\n",
       "      <td>Hilux</td>\n",
       "      <td>2020</td>\n",
       "      <td>Diesel</td>\n",
       "      <td>150</td>\n",
       "      <td>2.4</td>\n",
       "      <td>Automatic</td>\n",
       "      <td>2.8</td>\n",
       "      <td>260</td>\n",
       "      <td>36995</td>\n",
       "    </tr>\n",
       "    <tr>\n",
       "      <th>98534</th>\n",
       "      <td>Volkswagen</td>\n",
       "      <td>Golf SV</td>\n",
       "      <td>2019</td>\n",
       "      <td>Petrol</td>\n",
       "      <td>100</td>\n",
       "      <td>1.0</td>\n",
       "      <td>Manual</td>\n",
       "      <td>0.3</td>\n",
       "      <td>145</td>\n",
       "      <td>17950</td>\n",
       "    </tr>\n",
       "  </tbody>\n",
       "</table>\n",
       "</div>"
      ],
      "text/plain": [
       "             make     model  year fuelType  mileage  engineSize transmission  \\\n",
       "39624     Hyundai     Ioniq  2019   Hybrid     2844         1.6    Automatic   \n",
       "40222     Hyundai     Ioniq  2020   Hybrid     4152         1.6    Automatic   \n",
       "42364     Hyundai     Ioniq  2020   Hybrid     1290         1.6    Automatic   \n",
       "44220     Hyundai     Ioniq  2020   Hybrid     5213         1.6    Automatic   \n",
       "46798    Mercedes   A Class  2020   Hybrid     4000         1.3    Semi-Auto   \n",
       "46834    Mercedes   A Class  2020   Hybrid     4000         1.3    Semi-Auto   \n",
       "51244    Mercedes   A Class  2020   Hybrid     1000         1.3    Semi-Auto   \n",
       "54640    Mercedes   A Class  2020   Hybrid      345         1.3    Automatic   \n",
       "70212      Toyota     Hilux  2019   Diesel     3350         2.4    Automatic   \n",
       "70222      Toyota     Hilux  2020   Diesel       50         2.4       Manual   \n",
       "70223      Toyota     Hilux  2020   Diesel      100         2.4       Manual   \n",
       "70235      Toyota     Hilux  2019   Diesel     7123         2.4    Automatic   \n",
       "70236      Toyota     Hilux  2019   Diesel     5190         2.4       Manual   \n",
       "70243      Toyota     Hilux  2019   Diesel        4         2.4    Automatic   \n",
       "70254      Toyota     Hilux  2020   Diesel     1259         2.4    Automatic   \n",
       "70255      Toyota     Hilux  2019   Diesel    10250         2.4    Automatic   \n",
       "70256      Toyota     Hilux  2020   Diesel     5000         2.4    Automatic   \n",
       "70277      Toyota     Hilux  2020   Diesel      150         2.4    Automatic   \n",
       "98534  Volkswagen   Golf SV  2019   Petrol      100         1.0       Manual   \n",
       "\n",
       "       mpg  tax  price  \n",
       "39624  1.1  140  22998  \n",
       "40222  1.1  135  23895  \n",
       "42364  1.1  135  26995  \n",
       "44220  1.1  135  28995  \n",
       "46798  1.1  140  30231  \n",
       "46834  1.1  140  30231  \n",
       "51244  1.1  135  31500  \n",
       "54640  1.1  140  33900  \n",
       "70212  2.8  260  28495  \n",
       "70222  2.8  260  18495  \n",
       "70223  2.8  260  23495  \n",
       "70235  2.8  260  26500  \n",
       "70236  2.8  260  20500  \n",
       "70243  2.8  265  26995  \n",
       "70254  2.8  265  39257  \n",
       "70255  2.8  260  27850  \n",
       "70256  2.8  260  30500  \n",
       "70277  2.8  260  36995  \n",
       "98534  0.3  145  17950  "
      ]
     },
     "execution_count": 27,
     "metadata": {},
     "output_type": "execute_result"
    }
   ],
   "source": [
    "df[df['mpg'] < 5]"
   ]
  },
  {
   "cell_type": "markdown",
   "metadata": {},
   "source": [
    "We notice that all of these vehicles, except for the Volkswagen Golf SV, have either Diesel or Hybrid engines. The diesel vehicles within this subset of data are all pickup trucks and as a result the low mpg figure is understandable and could easily be correct. The hybrid vehicles do not solely depend on their petrol or diesel engine as a result of the combination with electricity, which could explain the low mpg figure in these cases. In the case of the Volkswagen Golf SV, the low mpg figure is difficult to explain and as a result we shall drop this vehicle from the dataset."
   ]
  },
  {
   "cell_type": "code",
   "execution_count": 28,
   "metadata": {},
   "outputs": [],
   "source": [
    "df = df.drop(df[df['mpg']==0.3].index)"
   ]
  },
  {
   "cell_type": "markdown",
   "metadata": {},
   "source": [
    "Let us now check the info method on our dataframe again."
   ]
  },
  {
   "cell_type": "code",
   "execution_count": 29,
   "metadata": {},
   "outputs": [
    {
     "data": {
      "text/html": [
       "<div>\n",
       "<style scoped>\n",
       "    .dataframe tbody tr th:only-of-type {\n",
       "        vertical-align: middle;\n",
       "    }\n",
       "\n",
       "    .dataframe tbody tr th {\n",
       "        vertical-align: top;\n",
       "    }\n",
       "\n",
       "    .dataframe thead th {\n",
       "        text-align: right;\n",
       "    }\n",
       "</style>\n",
       "<table border=\"1\" class=\"dataframe\">\n",
       "  <thead>\n",
       "    <tr style=\"text-align: right;\">\n",
       "      <th></th>\n",
       "      <th>year</th>\n",
       "      <th>mileage</th>\n",
       "      <th>engineSize</th>\n",
       "      <th>mpg</th>\n",
       "      <th>tax</th>\n",
       "      <th>price</th>\n",
       "    </tr>\n",
       "  </thead>\n",
       "  <tbody>\n",
       "    <tr>\n",
       "      <th>count</th>\n",
       "      <td>92619.000000</td>\n",
       "      <td>92619.000000</td>\n",
       "      <td>92619.000000</td>\n",
       "      <td>92619.000000</td>\n",
       "      <td>92619.000000</td>\n",
       "      <td>92619.000000</td>\n",
       "    </tr>\n",
       "    <tr>\n",
       "      <th>mean</th>\n",
       "      <td>2017.183947</td>\n",
       "      <td>22193.892365</td>\n",
       "      <td>1.686674</td>\n",
       "      <td>53.605918</td>\n",
       "      <td>128.437686</td>\n",
       "      <td>17261.252680</td>\n",
       "    </tr>\n",
       "    <tr>\n",
       "      <th>std</th>\n",
       "      <td>2.122109</td>\n",
       "      <td>20916.962018</td>\n",
       "      <td>0.558295</td>\n",
       "      <td>12.407525</td>\n",
       "      <td>56.659721</td>\n",
       "      <td>9984.621800</td>\n",
       "    </tr>\n",
       "    <tr>\n",
       "      <th>min</th>\n",
       "      <td>1996.000000</td>\n",
       "      <td>1.000000</td>\n",
       "      <td>0.600000</td>\n",
       "      <td>1.100000</td>\n",
       "      <td>10.000000</td>\n",
       "      <td>450.000000</td>\n",
       "    </tr>\n",
       "    <tr>\n",
       "      <th>25%</th>\n",
       "      <td>2016.000000</td>\n",
       "      <td>6880.000000</td>\n",
       "      <td>1.300000</td>\n",
       "      <td>45.600000</td>\n",
       "      <td>125.000000</td>\n",
       "      <td>10495.000000</td>\n",
       "    </tr>\n",
       "    <tr>\n",
       "      <th>50%</th>\n",
       "      <td>2017.000000</td>\n",
       "      <td>16340.000000</td>\n",
       "      <td>1.600000</td>\n",
       "      <td>54.300000</td>\n",
       "      <td>145.000000</td>\n",
       "      <td>14995.000000</td>\n",
       "    </tr>\n",
       "    <tr>\n",
       "      <th>75%</th>\n",
       "      <td>2019.000000</td>\n",
       "      <td>31141.000000</td>\n",
       "      <td>2.000000</td>\n",
       "      <td>60.100000</td>\n",
       "      <td>145.000000</td>\n",
       "      <td>21399.000000</td>\n",
       "    </tr>\n",
       "    <tr>\n",
       "      <th>max</th>\n",
       "      <td>2020.000000</td>\n",
       "      <td>323000.000000</td>\n",
       "      <td>6.600000</td>\n",
       "      <td>470.800000</td>\n",
       "      <td>580.000000</td>\n",
       "      <td>159999.000000</td>\n",
       "    </tr>\n",
       "  </tbody>\n",
       "</table>\n",
       "</div>"
      ],
      "text/plain": [
       "               year        mileage    engineSize           mpg           tax  \\\n",
       "count  92619.000000   92619.000000  92619.000000  92619.000000  92619.000000   \n",
       "mean    2017.183947   22193.892365      1.686674     53.605918    128.437686   \n",
       "std        2.122109   20916.962018      0.558295     12.407525     56.659721   \n",
       "min     1996.000000       1.000000      0.600000      1.100000     10.000000   \n",
       "25%     2016.000000    6880.000000      1.300000     45.600000    125.000000   \n",
       "50%     2017.000000   16340.000000      1.600000     54.300000    145.000000   \n",
       "75%     2019.000000   31141.000000      2.000000     60.100000    145.000000   \n",
       "max     2020.000000  323000.000000      6.600000    470.800000    580.000000   \n",
       "\n",
       "               price  \n",
       "count   92619.000000  \n",
       "mean    17261.252680  \n",
       "std      9984.621800  \n",
       "min       450.000000  \n",
       "25%     10495.000000  \n",
       "50%     14995.000000  \n",
       "75%     21399.000000  \n",
       "max    159999.000000  "
      ]
     },
     "execution_count": 29,
     "metadata": {},
     "output_type": "execute_result"
    }
   ],
   "source": [
    "df.describe().apply(lambda s: s.apply(lambda x: format(x, 'f')))"
   ]
  },
  {
   "cell_type": "markdown",
   "metadata": {},
   "source": [
    "Let us now check that we have no missing entries with our dataset."
   ]
  },
  {
   "cell_type": "code",
   "execution_count": 30,
   "metadata": {},
   "outputs": [
    {
     "data": {
      "text/plain": [
       "make            0\n",
       "model           0\n",
       "year            0\n",
       "fuelType        0\n",
       "mileage         0\n",
       "engineSize      0\n",
       "transmission    0\n",
       "mpg             0\n",
       "tax             0\n",
       "price           0\n",
       "dtype: int64"
      ]
     },
     "execution_count": 30,
     "metadata": {},
     "output_type": "execute_result"
    }
   ],
   "source": [
    "df.isnull().sum()"
   ]
  },
  {
   "cell_type": "markdown",
   "metadata": {},
   "source": [
    "We do not have any missing entries within our dataset. Our data has been successfully cleaned.\n",
    "\n",
    "### 1.2: Analysing Relationships Between Variables\n",
    "\n",
    "#### 1.2.1: Numerical Variables\n",
    "\n",
    "In this section we shall analyse the relationships between the variables in our dataset. We shall start by creating a correlation heatmap of the numerical variables."
   ]
  },
  {
   "cell_type": "code",
   "execution_count": 31,
   "metadata": {},
   "outputs": [
    {
     "data": {
      "text/plain": [
       "<matplotlib.axes._subplots.AxesSubplot at 0x1bd1c36dcc8>"
      ]
     },
     "execution_count": 31,
     "metadata": {},
     "output_type": "execute_result"
    },
    {
     "data": {
      "image/png": "[encoded data removed]",
      "text/plain": [
       "<Figure size 720x576 with 2 Axes>"
      ]
     },
     "metadata": {
      "needs_background": "light"
     },
     "output_type": "display_data"
    }
   ],
   "source": [
    "plt.figure(figsize=(10,8))\n",
    "sns.heatmap(df.corr(),annot=True)"
   ]
  },
  {
   "cell_type": "markdown",
   "metadata": {},
   "source": [
    "Firstly we notice that there is an extremely positive correlation between year and price and an extremely negative correlation between mileage and price. This makes sense, since newer cars are generally more expensive and cars with more mileage are relatively cheaper. We also notice a negative correlation between mileage and year - the newer a car is the less miles it is likely to have travelled. Furthermore, we notice a positive correlation between engine size and price, as well as engine size and tax. This follows expectation, since it is common practice for manufacturers to sell models with larger engines for a higher price in comparison to the same model with a smaller engine. As a result, due to the higher price, a larger tax payment is required, hence the positive correlation. This also explains the positive correlation between tax and price. \n",
    "\n",
    "Let us highlight these observations through the use of scatterplots."
   ]
  },
  {
   "cell_type": "code",
   "execution_count": 32,
   "metadata": {},
   "outputs": [
    {
     "data": {
      "text/plain": [
       "Text(0.5, 1.0, 'Scatter plot of Mileage against Price')"
      ]
     },
     "execution_count": 32,
     "metadata": {},
     "output_type": "execute_result"
    },
    {
     "data": {
      "image/png": "[encoded data removed]",
      "text/plain": [
       "<Figure size 432x288 with 1 Axes>"
      ]
     },
     "metadata": {
      "needs_background": "light"
     },
     "output_type": "display_data"
    }
   ],
   "source": [
    "sns.scatterplot(x='mileage',y='price',data=df)\n",
    "plt.title('Scatter plot of Mileage against Price')"
   ]
  },
  {
   "cell_type": "markdown",
   "metadata": {},
   "source": [
    "We notice that the earlier mileage on a vehicle has the most negative impact on the price. This can be seen since the slope on the plot is much steeper for lower mileage, while the rate of decrease of the price reduces as the mileage increases."
   ]
  },
  {
   "cell_type": "code",
   "execution_count": 33,
   "metadata": {},
   "outputs": [
    {
     "data": {
      "text/plain": [
       "Text(0.5, 1.0, 'Scatter Plot of Engine Size against Price')"
      ]
     },
     "execution_count": 33,
     "metadata": {},
     "output_type": "execute_result"
    },
    {
     "data": {
      "image/png": "[encoded data removed]",
      "text/plain": [
       "<Figure size 432x288 with 1 Axes>"
      ]
     },
     "metadata": {
      "needs_background": "light"
     },
     "output_type": "display_data"
    }
   ],
   "source": [
    "sns.scatterplot(x='engineSize',y='price',data=df)\n",
    "plt.title('Scatter Plot of Engine Size against Price')"
   ]
  },
  {
   "cell_type": "markdown",
   "metadata": {},
   "source": [
    "We clearly see that as the engine size of the vehicle increases, the price tends to increase too. Let us produce a pairplot to discover any relationships that have not been noticed yet."
   ]
  },
  {
   "cell_type": "code",
   "execution_count": 34,
   "metadata": {},
   "outputs": [
    {
     "data": {
      "text/plain": [
       "<seaborn.axisgrid.PairGrid at 0x1bd1cb13bc8>"
      ]
     },
     "execution_count": 34,
     "metadata": {},
     "output_type": "execute_result"
    },
    {
     "data": {
      "image/png": "[encoded data removed]",
      "text/plain": [
       "<Figure size 1080x1080 with 42 Axes>"
      ]
     },
     "metadata": {
      "needs_background": "light"
     },
     "output_type": "display_data"
    }
   ],
   "source": [
    "sns.pairplot(df)"
   ]
  },
  {
   "cell_type": "markdown",
   "metadata": {},
   "source": [
    "There are no clear and obvious variable relationships shown here that have not already been discussed. \n",
    "\n",
    "#### 1.2.2: Categorical Variables\n",
    "\n",
    "In this section we shall attempt to identify any key trends between our categorical variables and the target variable.\n",
    "\n",
    "##### 1.2.2.1: Make and Model\n",
    "\n",
    "Let us investigate how the make and model of the vehicle affects the price. "
   ]
  },
  {
   "cell_type": "code",
   "execution_count": 35,
   "metadata": {},
   "outputs": [
    {
     "data": {
      "text/plain": [
       "<matplotlib.axes._subplots.AxesSubplot at 0x1bd22dfb148>"
      ]
     },
     "execution_count": 35,
     "metadata": {},
     "output_type": "execute_result"
    },
    {
     "data": {
      "image/png": "[encoded data removed]",
      "text/plain": [
       "<Figure size 720x576 with 1 Axes>"
      ]
     },
     "metadata": {
      "needs_background": "light"
     },
     "output_type": "display_data"
    }
   ],
   "source": [
    "plt.figure(figsize=(10,8))\n",
    "sns.boxplot(x='make',y='price',data=df)"
   ]
  },
  {
   "cell_type": "markdown",
   "metadata": {},
   "source": [
    "We notice that the German made cars, namely Audi, BMW, Mercedes and Volkswagen, all have a higher price on average than the rest of the manufacturers within the dataset. It appears that there are vehicles from Hyundai and Skoda where the price seems to be an outlier. Let us investigate these two vehicles, starting with the Hyundai."
   ]
  },
  {
   "cell_type": "code",
   "execution_count": 36,
   "metadata": {},
   "outputs": [
    {
     "data": {
      "text/html": [
       "<div>\n",
       "<style scoped>\n",
       "    .dataframe tbody tr th:only-of-type {\n",
       "        vertical-align: middle;\n",
       "    }\n",
       "\n",
       "    .dataframe tbody tr th {\n",
       "        vertical-align: top;\n",
       "    }\n",
       "\n",
       "    .dataframe thead th {\n",
       "        text-align: right;\n",
       "    }\n",
       "</style>\n",
       "<table border=\"1\" class=\"dataframe\">\n",
       "  <thead>\n",
       "    <tr style=\"text-align: right;\">\n",
       "      <th></th>\n",
       "      <th>make</th>\n",
       "      <th>model</th>\n",
       "      <th>year</th>\n",
       "      <th>fuelType</th>\n",
       "      <th>mileage</th>\n",
       "      <th>engineSize</th>\n",
       "      <th>transmission</th>\n",
       "      <th>mpg</th>\n",
       "      <th>tax</th>\n",
       "      <th>price</th>\n",
       "    </tr>\n",
       "  </thead>\n",
       "  <tbody>\n",
       "    <tr>\n",
       "      <th>43661</th>\n",
       "      <td>Hyundai</td>\n",
       "      <td>I10</td>\n",
       "      <td>2017</td>\n",
       "      <td>Petrol</td>\n",
       "      <td>35460</td>\n",
       "      <td>1.2</td>\n",
       "      <td>Automatic</td>\n",
       "      <td>47.9</td>\n",
       "      <td>150</td>\n",
       "      <td>92000</td>\n",
       "    </tr>\n",
       "  </tbody>\n",
       "</table>\n",
       "</div>"
      ],
      "text/plain": [
       "          make model  year fuelType  mileage  engineSize transmission   mpg  \\\n",
       "43661  Hyundai   I10  2017   Petrol    35460         1.2    Automatic  47.9   \n",
       "\n",
       "       tax  price  \n",
       "43661  150  92000  "
      ]
     },
     "execution_count": 36,
     "metadata": {},
     "output_type": "execute_result"
    }
   ],
   "source": [
    "df[(df['make'] == 'Hyundai') & (df['price'] > 80000)]"
   ]
  },
  {
   "cell_type": "markdown",
   "metadata": {},
   "source": [
    "After doing some research, it can be seen that this make and model of vehicle would cost a customer in the region of £15,000 to buy brand new. As a result, the price of £92,000 for this 3 year old version is clearly a mistake and as a result we shall drop this point from the dataset."
   ]
  },
  {
   "cell_type": "code",
   "execution_count": 37,
   "metadata": {},
   "outputs": [],
   "source": [
    "hyundai_error = df[(df['make'] == 'Hyundai') & (df['price'] > 80000)].index\n",
    "df = df.drop(hyundai_error)"
   ]
  },
  {
   "cell_type": "markdown",
   "metadata": {},
   "source": [
    "Let us now investigate the problematic Skoda."
   ]
  },
  {
   "cell_type": "code",
   "execution_count": 38,
   "metadata": {},
   "outputs": [
    {
     "data": {
      "text/html": [
       "<div>\n",
       "<style scoped>\n",
       "    .dataframe tbody tr th:only-of-type {\n",
       "        vertical-align: middle;\n",
       "    }\n",
       "\n",
       "    .dataframe tbody tr th {\n",
       "        vertical-align: top;\n",
       "    }\n",
       "\n",
       "    .dataframe thead th {\n",
       "        text-align: right;\n",
       "    }\n",
       "</style>\n",
       "<table border=\"1\" class=\"dataframe\">\n",
       "  <thead>\n",
       "    <tr style=\"text-align: right;\">\n",
       "      <th></th>\n",
       "      <th>make</th>\n",
       "      <th>model</th>\n",
       "      <th>year</th>\n",
       "      <th>fuelType</th>\n",
       "      <th>mileage</th>\n",
       "      <th>engineSize</th>\n",
       "      <th>transmission</th>\n",
       "      <th>mpg</th>\n",
       "      <th>tax</th>\n",
       "      <th>price</th>\n",
       "    </tr>\n",
       "  </thead>\n",
       "  <tbody>\n",
       "    <tr>\n",
       "      <th>62386</th>\n",
       "      <td>Skoda</td>\n",
       "      <td>Karoq</td>\n",
       "      <td>2019</td>\n",
       "      <td>Petrol</td>\n",
       "      <td>3764</td>\n",
       "      <td>1.5</td>\n",
       "      <td>Automatic</td>\n",
       "      <td>40.9</td>\n",
       "      <td>145</td>\n",
       "      <td>91874</td>\n",
       "    </tr>\n",
       "  </tbody>\n",
       "</table>\n",
       "</div>"
      ],
      "text/plain": [
       "        make   model  year fuelType  mileage  engineSize transmission   mpg  \\\n",
       "62386  Skoda   Karoq  2019   Petrol     3764         1.5    Automatic  40.9   \n",
       "\n",
       "       tax  price  \n",
       "62386  145  91874  "
      ]
     },
     "execution_count": 38,
     "metadata": {},
     "output_type": "execute_result"
    }
   ],
   "source": [
    "df[(df['make'] == 'Skoda') & (df['price']> 80000)]"
   ]
  },
  {
   "cell_type": "markdown",
   "metadata": {},
   "source": [
    "Once again, it can be found that a brand new model of this car costs around £25,000 to purchase. Similarly to above, the price entered here is clearly in error and we shall remove this point from the dataset also."
   ]
  },
  {
   "cell_type": "code",
   "execution_count": 39,
   "metadata": {},
   "outputs": [],
   "source": [
    "skoda_error = df[(df['make'] == 'Skoda') & (df['price']> 80000)].index\n",
    "df = df.drop(skoda_error)"
   ]
  },
  {
   "cell_type": "markdown",
   "metadata": {},
   "source": [
    "Within this dataset we have over 190 different models of vehicle. Therefore, producing box plots to investigate this in detail would be too complex. However, it is somewhat obvious that the model purchased does have a clear effect on the price of the vehicle.\n",
    "\n",
    "##### 1.2.2.2: Fuel Type\n",
    "\n",
    "Let us determine the effect that the fuel type of a vehicle has on its price."
   ]
  },
  {
   "cell_type": "code",
   "execution_count": 40,
   "metadata": {},
   "outputs": [
    {
     "data": {
      "text/plain": [
       "<matplotlib.axes._subplots.AxesSubplot at 0x1bd245ad308>"
      ]
     },
     "execution_count": 40,
     "metadata": {},
     "output_type": "execute_result"
    },
    {
     "data": {
      "image/png": "[encoded data removed]",
      "text/plain": [
       "<Figure size 432x288 with 1 Axes>"
      ]
     },
     "metadata": {
      "needs_background": "light"
     },
     "output_type": "display_data"
    }
   ],
   "source": [
    "sns.boxplot(x='fuelType',y='price',data=df)"
   ]
  },
  {
   "cell_type": "markdown",
   "metadata": {},
   "source": [
    "We can see that, on average, petrol vehicles are cheaper to purchase than vehicles with different fuel types. Hybrid vehicles are the most expensive to purchase on average, possibly due to the advanced technology required in order to merge petrol and electric motors. We can clearly observe that the fuel type is an important feature in determining a vehicles sale price.\n",
    "\n",
    "##### 1.2.2.3: Transmission\n",
    "\n",
    "Let us determine if the transmission type of a vehicle has an influence on the sale price."
   ]
  },
  {
   "cell_type": "code",
   "execution_count": 41,
   "metadata": {},
   "outputs": [
    {
     "data": {
      "text/plain": [
       "<matplotlib.axes._subplots.AxesSubplot at 0x1bd24988848>"
      ]
     },
     "execution_count": 41,
     "metadata": {},
     "output_type": "execute_result"
    },
    {
     "data": {
      "image/png": "[encoded data removed]",
      "text/plain": [
       "<Figure size 432x288 with 1 Axes>"
      ]
     },
     "metadata": {
      "needs_background": "light"
     },
     "output_type": "display_data"
    }
   ],
   "source": [
    "sns.boxplot(x='transmission',y='price',data=df)"
   ]
  },
  {
   "cell_type": "markdown",
   "metadata": {},
   "source": [
    "The first observartion here is that vehicles with manual transmission tend to be cheaper to purchase than other transmission types. This may be due to advanced resources required to design and implement automatic transmission systems. We can clearly see that this feature has a significant influence on the price.\n",
    "\n",
    "#### 1.2.3: Analysing the Distribution of Numerical Variables\n",
    "\n",
    "In order to achieve optimised prediction results, we must first ensure that our numerical features are normally distributed. To do this, we produced histograms and check that the follow the \"bell\" shaped curve.\n",
    "\n",
    "##### 1.2.3.1: Price"
   ]
  },
  {
   "cell_type": "code",
   "execution_count": 42,
   "metadata": {},
   "outputs": [
    {
     "data": {
      "text/plain": [
       "<matplotlib.axes._subplots.AxesSubplot at 0x1bd24a508c8>"
      ]
     },
     "execution_count": 42,
     "metadata": {},
     "output_type": "execute_result"
    },
    {
     "data": {
      "image/png": "[encoded data removed]",
      "text/plain": [
       "<Figure size 432x288 with 1 Axes>"
      ]
     },
     "metadata": {
      "needs_background": "light"
     },
     "output_type": "display_data"
    }
   ],
   "source": [
    "sns.distplot(df['price'],bins=50)"
   ]
  },
  {
   "cell_type": "markdown",
   "metadata": {},
   "source": [
    "We can see that our target variable is extremely positively skewed. We shall apply a log transformation of this feature in the data preprocessing section.\n",
    "\n",
    "##### 1.2.3.2: Year"
   ]
  },
  {
   "cell_type": "code",
   "execution_count": 43,
   "metadata": {},
   "outputs": [
    {
     "data": {
      "text/plain": [
       "<matplotlib.axes._subplots.AxesSubplot at 0x1bd24b5f908>"
      ]
     },
     "execution_count": 43,
     "metadata": {},
     "output_type": "execute_result"
    },
    {
     "data": {
      "image/png": "[encoded data removed]",
      "text/plain": [
       "<Figure size 432x288 with 1 Axes>"
      ]
     },
     "metadata": {
      "needs_background": "light"
     },
     "output_type": "display_data"
    }
   ],
   "source": [
    "sns.distplot(df['year'],bins=50)"
   ]
  },
  {
   "cell_type": "markdown",
   "metadata": {},
   "source": [
    "In this scenario, we notice that our data is negatively skewed.\n",
    "\n",
    "##### 1.2.3.3: Mileage"
   ]
  },
  {
   "cell_type": "code",
   "execution_count": 44,
   "metadata": {},
   "outputs": [
    {
     "data": {
      "text/plain": [
       "<matplotlib.axes._subplots.AxesSubplot at 0x1bd24b86688>"
      ]
     },
     "execution_count": 44,
     "metadata": {},
     "output_type": "execute_result"
    },
    {
     "data": {
      "image/png": "[encoded data removed]",
      "text/plain": [
       "<Figure size 432x288 with 1 Axes>"
      ]
     },
     "metadata": {
      "needs_background": "light"
     },
     "output_type": "display_data"
    }
   ],
   "source": [
    "sns.distplot(df['mileage'],bins=50)"
   ]
  },
  {
   "cell_type": "markdown",
   "metadata": {},
   "source": [
    "Our mileage data is positively skewed.\n",
    "\n",
    "##### 1.2.3.4: Tax"
   ]
  },
  {
   "cell_type": "code",
   "execution_count": 45,
   "metadata": {},
   "outputs": [
    {
     "data": {
      "text/plain": [
       "<matplotlib.axes._subplots.AxesSubplot at 0x1bd24c36948>"
      ]
     },
     "execution_count": 45,
     "metadata": {},
     "output_type": "execute_result"
    },
    {
     "data": {
      "image/png": "[encoded data removed]",
      "text/plain": [
       "<Figure size 432x288 with 1 Axes>"
      ]
     },
     "metadata": {
      "needs_background": "light"
     },
     "output_type": "display_data"
    }
   ],
   "source": [
    "sns.distplot(df['tax'],bins=50)"
   ]
  },
  {
   "cell_type": "markdown",
   "metadata": {},
   "source": [
    "We have slight positive skew in this case.\n",
    "\n",
    "##### 1.2.3.5:  MPG"
   ]
  },
  {
   "cell_type": "code",
   "execution_count": 46,
   "metadata": {},
   "outputs": [
    {
     "data": {
      "text/plain": [
       "<matplotlib.axes._subplots.AxesSubplot at 0x1bd1a267c88>"
      ]
     },
     "execution_count": 46,
     "metadata": {},
     "output_type": "execute_result"
    },
    {
     "data": {
      "image/png": "[encoded data removed]",
      "text/plain": [
       "<Figure size 432x288 with 1 Axes>"
      ]
     },
     "metadata": {
      "needs_background": "light"
     },
     "output_type": "display_data"
    }
   ],
   "source": [
    "sns.distplot(df['mpg'],bins=50)"
   ]
  },
  {
   "cell_type": "markdown",
   "metadata": {},
   "source": [
    "We observe a positive skew for our \"MPG\" data.\n",
    "\n",
    "##### 1.2.6: Engine Size"
   ]
  },
  {
   "cell_type": "code",
   "execution_count": 47,
   "metadata": {},
   "outputs": [
    {
     "data": {
      "text/plain": [
       "<matplotlib.axes._subplots.AxesSubplot at 0x1bd24d8e208>"
      ]
     },
     "execution_count": 47,
     "metadata": {},
     "output_type": "execute_result"
    },
    {
     "data": {
      "image/png": "[encoded data removed]",
      "text/plain": [
       "<Figure size 432x288 with 1 Axes>"
      ]
     },
     "metadata": {
      "needs_background": "light"
     },
     "output_type": "display_data"
    }
   ],
   "source": [
    "sns.distplot(df['engineSize'],bins=50)"
   ]
  },
  {
   "cell_type": "markdown",
   "metadata": {},
   "source": [
    "We also notice positive skew in this feature too.\n",
    "\n",
    "## 2: Data Preprocessing\n",
    "\n",
    "In this section, we shall deal with skewed data and create dummy variables for our categorical features. \n",
    "\n",
    "### 2.1: Dealing with Skewed Data\n",
    "\n",
    "Let us apply a log transform to our numerical columns in an attempt to reduce skewness."
   ]
  },
  {
   "cell_type": "code",
   "execution_count": 48,
   "metadata": {},
   "outputs": [],
   "source": [
    "df['price'] = np.log(df['price'])\n",
    "df['year'] = np.log(df['year'])\n",
    "df['mileage'] = np.log(df['mileage'])\n",
    "df['tax'] = np.log(df['tax'])\n",
    "df['mpg'] = np.log(df['mpg'])\n",
    "df['engineSize'] = np.log(df['engineSize'])"
   ]
  },
  {
   "cell_type": "markdown",
   "metadata": {},
   "source": [
    "### 2.2: Creating Dummy Variables\n",
    "\n",
    "In order to use our categorical variables in the machine learning algorithms, we must create dummy variables for them. However, let us begin by removing the \"make\" column from our dataset since we can infer this information from the vehicles \"model\"."
   ]
  },
  {
   "cell_type": "code",
   "execution_count": 49,
   "metadata": {},
   "outputs": [],
   "source": [
    "df = df.drop('make',axis=1)"
   ]
  },
  {
   "cell_type": "markdown",
   "metadata": {},
   "source": [
    "We can now create dummy variables for the categorical features within our dataset. We must set the parameter \"drop_first\" to be true in order to reduce multicolinearity."
   ]
  },
  {
   "cell_type": "code",
   "execution_count": 50,
   "metadata": {},
   "outputs": [],
   "source": [
    "transmission = pd.get_dummies(df['transmission'],drop_first=True)\n",
    "model = pd.get_dummies(df['model'],drop_first=True)\n",
    "fueltype = pd.get_dummies(df['fuelType'],drop_first=True)\n",
    "df = pd.concat([df,transmission,model,fueltype],axis=1)\n",
    "df = df.drop(['transmission','model','fuelType'],axis=1)"
   ]
  },
  {
   "cell_type": "markdown",
   "metadata": {},
   "source": [
    "Let us check the head of the dataframe to ensure that the dummy variables were created successfully."
   ]
  },
  {
   "cell_type": "code",
   "execution_count": 51,
   "metadata": {},
   "outputs": [
    {
     "data": {
      "text/html": [
       "<div>\n",
       "<style scoped>\n",
       "    .dataframe tbody tr th:only-of-type {\n",
       "        vertical-align: middle;\n",
       "    }\n",
       "\n",
       "    .dataframe tbody tr th {\n",
       "        vertical-align: top;\n",
       "    }\n",
       "\n",
       "    .dataframe thead th {\n",
       "        text-align: right;\n",
       "    }\n",
       "</style>\n",
       "<table border=\"1\" class=\"dataframe\">\n",
       "  <thead>\n",
       "    <tr style=\"text-align: right;\">\n",
       "      <th></th>\n",
       "      <th>year</th>\n",
       "      <th>mileage</th>\n",
       "      <th>engineSize</th>\n",
       "      <th>mpg</th>\n",
       "      <th>tax</th>\n",
       "      <th>price</th>\n",
       "      <th>Manual</th>\n",
       "      <th>Other</th>\n",
       "      <th>Semi-Auto</th>\n",
       "      <th>2 Series</th>\n",
       "      <th>...</th>\n",
       "      <th>Zafira</th>\n",
       "      <th>Zafira Tourer</th>\n",
       "      <th>i3</th>\n",
       "      <th>i8</th>\n",
       "      <th>180</th>\n",
       "      <th>200</th>\n",
       "      <th>220</th>\n",
       "      <th>Hybrid</th>\n",
       "      <th>Other</th>\n",
       "      <th>Petrol</th>\n",
       "    </tr>\n",
       "  </thead>\n",
       "  <tbody>\n",
       "    <tr>\n",
       "      <th>0</th>\n",
       "      <td>7.609367</td>\n",
       "      <td>9.663643</td>\n",
       "      <td>0.336472</td>\n",
       "      <td>4.014580</td>\n",
       "      <td>5.010635</td>\n",
       "      <td>9.433484</td>\n",
       "      <td>1</td>\n",
       "      <td>0</td>\n",
       "      <td>0</td>\n",
       "      <td>0</td>\n",
       "      <td>...</td>\n",
       "      <td>0</td>\n",
       "      <td>0</td>\n",
       "      <td>0</td>\n",
       "      <td>0</td>\n",
       "      <td>0</td>\n",
       "      <td>0</td>\n",
       "      <td>0</td>\n",
       "      <td>0</td>\n",
       "      <td>0</td>\n",
       "      <td>1</td>\n",
       "    </tr>\n",
       "    <tr>\n",
       "      <th>1</th>\n",
       "      <td>7.608871</td>\n",
       "      <td>10.496897</td>\n",
       "      <td>0.693147</td>\n",
       "      <td>4.162003</td>\n",
       "      <td>2.995732</td>\n",
       "      <td>9.711116</td>\n",
       "      <td>0</td>\n",
       "      <td>0</td>\n",
       "      <td>0</td>\n",
       "      <td>0</td>\n",
       "      <td>...</td>\n",
       "      <td>0</td>\n",
       "      <td>0</td>\n",
       "      <td>0</td>\n",
       "      <td>0</td>\n",
       "      <td>0</td>\n",
       "      <td>0</td>\n",
       "      <td>0</td>\n",
       "      <td>0</td>\n",
       "      <td>0</td>\n",
       "      <td>0</td>\n",
       "    </tr>\n",
       "    <tr>\n",
       "      <th>2</th>\n",
       "      <td>7.608871</td>\n",
       "      <td>10.307151</td>\n",
       "      <td>0.336472</td>\n",
       "      <td>4.014580</td>\n",
       "      <td>3.401197</td>\n",
       "      <td>9.305651</td>\n",
       "      <td>1</td>\n",
       "      <td>0</td>\n",
       "      <td>0</td>\n",
       "      <td>0</td>\n",
       "      <td>...</td>\n",
       "      <td>0</td>\n",
       "      <td>0</td>\n",
       "      <td>0</td>\n",
       "      <td>0</td>\n",
       "      <td>0</td>\n",
       "      <td>0</td>\n",
       "      <td>0</td>\n",
       "      <td>0</td>\n",
       "      <td>0</td>\n",
       "      <td>1</td>\n",
       "    </tr>\n",
       "    <tr>\n",
       "      <th>3</th>\n",
       "      <td>7.609367</td>\n",
       "      <td>10.164004</td>\n",
       "      <td>0.693147</td>\n",
       "      <td>4.209160</td>\n",
       "      <td>4.976734</td>\n",
       "      <td>9.729134</td>\n",
       "      <td>0</td>\n",
       "      <td>0</td>\n",
       "      <td>0</td>\n",
       "      <td>0</td>\n",
       "      <td>...</td>\n",
       "      <td>0</td>\n",
       "      <td>0</td>\n",
       "      <td>0</td>\n",
       "      <td>0</td>\n",
       "      <td>0</td>\n",
       "      <td>0</td>\n",
       "      <td>0</td>\n",
       "      <td>0</td>\n",
       "      <td>0</td>\n",
       "      <td>0</td>\n",
       "    </tr>\n",
       "    <tr>\n",
       "      <th>4</th>\n",
       "      <td>7.610358</td>\n",
       "      <td>7.599902</td>\n",
       "      <td>0.000000</td>\n",
       "      <td>3.903991</td>\n",
       "      <td>4.976734</td>\n",
       "      <td>9.758462</td>\n",
       "      <td>1</td>\n",
       "      <td>0</td>\n",
       "      <td>0</td>\n",
       "      <td>0</td>\n",
       "      <td>...</td>\n",
       "      <td>0</td>\n",
       "      <td>0</td>\n",
       "      <td>0</td>\n",
       "      <td>0</td>\n",
       "      <td>0</td>\n",
       "      <td>0</td>\n",
       "      <td>0</td>\n",
       "      <td>0</td>\n",
       "      <td>0</td>\n",
       "      <td>1</td>\n",
       "    </tr>\n",
       "  </tbody>\n",
       "</table>\n",
       "<p>5 rows × 204 columns</p>\n",
       "</div>"
      ],
      "text/plain": [
       "       year    mileage  engineSize       mpg       tax     price  Manual  \\\n",
       "0  7.609367   9.663643    0.336472  4.014580  5.010635  9.433484       1   \n",
       "1  7.608871  10.496897    0.693147  4.162003  2.995732  9.711116       0   \n",
       "2  7.608871  10.307151    0.336472  4.014580  3.401197  9.305651       1   \n",
       "3  7.609367  10.164004    0.693147  4.209160  4.976734  9.729134       0   \n",
       "4  7.610358   7.599902    0.000000  3.903991  4.976734  9.758462       1   \n",
       "\n",
       "   Other  Semi-Auto   2 Series  ...   Zafira   Zafira Tourer   i3   i8  180  \\\n",
       "0      0          0          0  ...        0               0    0    0    0   \n",
       "1      0          0          0  ...        0               0    0    0    0   \n",
       "2      0          0          0  ...        0               0    0    0    0   \n",
       "3      0          0          0  ...        0               0    0    0    0   \n",
       "4      0          0          0  ...        0               0    0    0    0   \n",
       "\n",
       "   200  220  Hybrid  Other  Petrol  \n",
       "0    0    0       0      0       1  \n",
       "1    0    0       0      0       0  \n",
       "2    0    0       0      0       1  \n",
       "3    0    0       0      0       0  \n",
       "4    0    0       0      0       1  \n",
       "\n",
       "[5 rows x 204 columns]"
      ]
     },
     "execution_count": 51,
     "metadata": {},
     "output_type": "execute_result"
    }
   ],
   "source": [
    "df.head()"
   ]
  },
  {
   "cell_type": "markdown",
   "metadata": {},
   "source": [
    "### 2.3: Creating Training and Test Sets\n",
    "\n",
    "We must now create training and test sets for our data."
   ]
  },
  {
   "cell_type": "code",
   "execution_count": 52,
   "metadata": {},
   "outputs": [],
   "source": [
    "X = df.drop('price',axis=1)\n",
    "y = df['price']\n",
    "from sklearn.model_selection import train_test_split\n",
    "X_train, X_test, y_train, y_test = train_test_split(X, y, test_size=0.25,random_state=101)"
   ]
  },
  {
   "cell_type": "markdown",
   "metadata": {},
   "source": [
    "Our dataset is now ready for use in the machine learning algorithms.\n",
    "\n",
    "## 3: Model Creation and Analysis\n",
    "\n",
    "In this section we shall implement a range of machine learning algorithms in order to predict the prices of used cars, whilst simultaneously investigating the effects of scaling our data.\n",
    "\n",
    "### 3.1: Non-scaled Data\n",
    "\n",
    "#### 3.1.1: Linear Regression\n",
    "\n",
    "The first model that we shall implement will be a linear regression model. First we must fit our model to the training data."
   ]
  },
  {
   "cell_type": "code",
   "execution_count": 53,
   "metadata": {},
   "outputs": [
    {
     "data": {
      "text/plain": [
       "LinearRegression()"
      ]
     },
     "execution_count": 53,
     "metadata": {},
     "output_type": "execute_result"
    }
   ],
   "source": [
    "from sklearn.linear_model import LinearRegression\n",
    "linreg = LinearRegression()\n",
    "linreg.fit(X_train, y_train)"
   ]
  },
  {
   "cell_type": "markdown",
   "metadata": {},
   "source": [
    "We can now create predictions using our trained model."
   ]
  },
  {
   "cell_type": "code",
   "execution_count": 54,
   "metadata": {},
   "outputs": [],
   "source": [
    "linreg_preds = linreg.predict(X_test)"
   ]
  },
  {
   "cell_type": "markdown",
   "metadata": {},
   "source": [
    "Since this is a continuous regression problem, our key metrics for analysis purposes are the root mean squared error and the R2 score. Let us import these metrics from scikit-learn and use them to analyse our linear regression model. "
   ]
  },
  {
   "cell_type": "code",
   "execution_count": 55,
   "metadata": {},
   "outputs": [
    {
     "name": "stdout",
     "output_type": "stream",
     "text": [
      "Linear Regression R2 Score: 0.9066571028541371\n",
      "Linear Regression RMSE: 3008.0835062192778\n"
     ]
    }
   ],
   "source": [
    "from sklearn.metrics import r2_score, mean_squared_error\n",
    "linreg_r2 = r2_score(np.exp(y_test),np.exp(linreg_preds))\n",
    "linreg_RMSE = np.sqrt(mean_squared_error(np.exp(y_test),np.exp(linreg_preds)))\n",
    "print(\"Linear Regression R2 Score: {}\".format(linreg_r2))\n",
    "print(\"Linear Regression RMSE: {}\".format(linreg_RMSE))"
   ]
  },
  {
   "cell_type": "markdown",
   "metadata": {},
   "source": [
    "Our R2 score of 0.9 is very good and represents 90% of the variance of the price of a used car based on the independent variables we have used here. Our RMSE value of roughly £3000 is large, but in comparison to the average price of a car in our dataset, this value is reasonable. One reason for this larger value may be due to the fact there remains some vehicles which have an extremely large price, which would be considered outliers due to the being over 1.5x larger than the Upper Quartile price value.\n",
    "\n",
    "#### 3.1.2: Decision Tree\n",
    "\n",
    "The process of training a machine learning model and generating predictions will be the same as described above for all machine learning algorithms implemented from this point forward. We shall now implement the decision tree algorithm."
   ]
  },
  {
   "cell_type": "code",
   "execution_count": 56,
   "metadata": {},
   "outputs": [
    {
     "name": "stdout",
     "output_type": "stream",
     "text": [
      "Decision Tree R2 Score: 0.9375513682637916\n",
      "Decision Tree RMSE: 2460.42830136177\n"
     ]
    }
   ],
   "source": [
    "from sklearn.tree import DecisionTreeRegressor\n",
    "dtr = DecisionTreeRegressor()\n",
    "dtr.fit(X_train, y_train)\n",
    "dtr_preds = dtr.predict(X_test)\n",
    "dtr_r2 = r2_score(np.exp(y_test),np.exp(dtr_preds))\n",
    "dtr_RMSE = np.sqrt(mean_squared_error(np.exp(y_test),np.exp(dtr_preds)))\n",
    "print(\"Decision Tree R2 Score: {}\".format(dtr_r2))\n",
    "print(\"Decision Tree RMSE: {}\".format(dtr_RMSE))"
   ]
  },
  {
   "cell_type": "markdown",
   "metadata": {},
   "source": [
    "The decision tree regressor has managed to explain just over 93% of the variance within the price feature based on the independent variables used in the model. We have also managed to reduce the RMSE by approximately £500 in comparison to the Linear Regression model. \n",
    "\n",
    "#### 3.1.3: Random Forest"
   ]
  },
  {
   "cell_type": "code",
   "execution_count": 57,
   "metadata": {},
   "outputs": [
    {
     "name": "stdout",
     "output_type": "stream",
     "text": [
      "Random Forest R2 Score: 0.963926898218066\n",
      "Random Forest RMSE: 1869.997361778134\n"
     ]
    }
   ],
   "source": [
    "from sklearn.ensemble import RandomForestRegressor\n",
    "rfr = RandomForestRegressor()\n",
    "rfr.fit(X_train, y_train)\n",
    "rfr_preds = rfr.predict(X_test)\n",
    "rfr_r2 = r2_score(np.exp(y_test),np.exp(rfr_preds))\n",
    "rfr_RMSE = np.sqrt(mean_squared_error(np.exp(y_test),np.exp(rfr_preds)))\n",
    "print(\"Random Forest R2 Score: {}\".format(rfr_r2))\n",
    "print(\"Random Forest RMSE: {}\".format(rfr_RMSE))"
   ]
  },
  {
   "cell_type": "markdown",
   "metadata": {},
   "source": [
    "Our random forest regressor manages to explain approximately 96% of the variance within the dependent variable. The root mean squared error is also the lowest that we have seen, at approximately £1800, which equates to roughly 10% error based on the average price of vehicles within the dataset.\n",
    "\n",
    "#### 3.1.4: Support Vector Regression"
   ]
  },
  {
   "cell_type": "code",
   "execution_count": 58,
   "metadata": {},
   "outputs": [
    {
     "name": "stdout",
     "output_type": "stream",
     "text": [
      "Support Vector Regression R2 Score: 0.873738642118782\n",
      "Support Vector Regression RMSE: 3498.5209431370554\n"
     ]
    }
   ],
   "source": [
    "from sklearn.svm import SVR\n",
    "svr = SVR()\n",
    "svr.fit(X_train, y_train)\n",
    "svr_preds = svr.predict(X_test)\n",
    "svr_r2 = r2_score(np.exp(y_test),np.exp(svr_preds))\n",
    "svr_RMSE = np.sqrt(mean_squared_error(np.exp(y_test),np.exp(svr_preds)))\n",
    "print(\"Support Vector Regression R2 Score: {}\".format(svr_r2))\n",
    "print(\"Support Vector Regression RMSE: {}\".format(svr_RMSE))"
   ]
  },
  {
   "cell_type": "markdown",
   "metadata": {},
   "source": [
    "We observe that Support Vector Regression is currently the worst model we have implemented, achieving a R2 score of approximately 87% and a RMSE of approximately £3500.\n",
    "\n",
    "#### 3.1.5: MLP Regressor"
   ]
  },
  {
   "cell_type": "code",
   "execution_count": 59,
   "metadata": {},
   "outputs": [
    {
     "name": "stdout",
     "output_type": "stream",
     "text": [
      "MLP Regressor R2 Score: 0.936930833195365\n",
      "MLP Regressor RMSE: 2472.6223873275844\n"
     ]
    }
   ],
   "source": [
    "from sklearn.neural_network import MLPRegressor\n",
    "mlp = MLPRegressor()\n",
    "mlp.fit(X_train, y_train)\n",
    "mlp_preds = mlp.predict(X_test)\n",
    "mlp_r2 = r2_score(np.exp(y_test),np.exp(mlp_preds))\n",
    "mlp_RMSE = np.sqrt(mean_squared_error(np.exp(y_test),np.exp(mlp_preds)))\n",
    "print(\"MLP Regressor R2 Score: {}\".format(mlp_r2))\n",
    "print(\"MLP Regressor RMSE: {}\".format(mlp_RMSE))"
   ]
  },
  {
   "cell_type": "markdown",
   "metadata": {},
   "source": [
    "Our MLP regressor managed to achieve an R2 score of approximately 93%, but with a RMSE of around £2600.\n",
    "\n",
    "#### 3.1.6: Summary of Findings"
   ]
  },
  {
   "cell_type": "code",
   "execution_count": 63,
   "metadata": {},
   "outputs": [
    {
     "data": {
      "text/html": [
       "<div>\n",
       "<style scoped>\n",
       "    .dataframe tbody tr th:only-of-type {\n",
       "        vertical-align: middle;\n",
       "    }\n",
       "\n",
       "    .dataframe tbody tr th {\n",
       "        vertical-align: top;\n",
       "    }\n",
       "\n",
       "    .dataframe thead th {\n",
       "        text-align: right;\n",
       "    }\n",
       "</style>\n",
       "<table border=\"1\" class=\"dataframe\">\n",
       "  <thead>\n",
       "    <tr style=\"text-align: right;\">\n",
       "      <th></th>\n",
       "      <th>Model</th>\n",
       "      <th>R2 Score</th>\n",
       "      <th>RMSE</th>\n",
       "    </tr>\n",
       "  </thead>\n",
       "  <tbody>\n",
       "    <tr>\n",
       "      <th>0</th>\n",
       "      <td>Linear Regression</td>\n",
       "      <td>0.906657</td>\n",
       "      <td>3008.083506</td>\n",
       "    </tr>\n",
       "    <tr>\n",
       "      <th>1</th>\n",
       "      <td>Decision Tree</td>\n",
       "      <td>0.937551</td>\n",
       "      <td>2460.428301</td>\n",
       "    </tr>\n",
       "    <tr>\n",
       "      <th>2</th>\n",
       "      <td>Random Forest</td>\n",
       "      <td>0.963927</td>\n",
       "      <td>1869.997362</td>\n",
       "    </tr>\n",
       "    <tr>\n",
       "      <th>3</th>\n",
       "      <td>Support Vector Regressor</td>\n",
       "      <td>0.873739</td>\n",
       "      <td>3498.520943</td>\n",
       "    </tr>\n",
       "    <tr>\n",
       "      <th>4</th>\n",
       "      <td>MLP Regressor</td>\n",
       "      <td>0.936931</td>\n",
       "      <td>2472.622387</td>\n",
       "    </tr>\n",
       "  </tbody>\n",
       "</table>\n",
       "</div>"
      ],
      "text/plain": [
       "                      Model  R2 Score         RMSE\n",
       "0         Linear Regression  0.906657  3008.083506\n",
       "1             Decision Tree  0.937551  2460.428301\n",
       "2             Random Forest  0.963927  1869.997362\n",
       "3  Support Vector Regressor  0.873739  3498.520943\n",
       "4             MLP Regressor  0.936931  2472.622387"
      ]
     },
     "execution_count": 63,
     "metadata": {},
     "output_type": "execute_result"
    }
   ],
   "source": [
    "d = {'Model': ['Linear Regression', 'Decision Tree', 'Random Forest', 'Support Vector Regressor', 'MLP Regressor'],\n",
    "    'R2 Score': [linreg_r2, dtr_r2, rfr_r2, svr_r2, mlp_r2],\n",
    "    'RMSE': [linreg_RMSE, dtr_RMSE, rfr_RMSE, svr_RMSE, mlp_RMSE]}\n",
    "results = pd.DataFrame(data=d)\n",
    "results"
   ]
  },
  {
   "cell_type": "markdown",
   "metadata": {},
   "source": [
    "We can see that our random forest model achieved both the best R2 score and RMSE. The support vector regressor acheived the worst R2 score. Let us plot this information for visual understanding."
   ]
  },
  {
   "cell_type": "code",
   "execution_count": 70,
   "metadata": {},
   "outputs": [
    {
     "data": {
      "text/plain": [
       "Text(0.5, 1.0, 'R2 Score for Each Model')"
      ]
     },
     "execution_count": 70,
     "metadata": {},
     "output_type": "execute_result"
    },
    {
     "data": {
      "image/png": "[encoded data removed]",
      "text/plain": [
       "<Figure size 720x432 with 1 Axes>"
      ]
     },
     "metadata": {
      "needs_background": "light"
     },
     "output_type": "display_data"
    }
   ],
   "source": [
    "plt.figure(figsize=(10,6))\n",
    "sns.barplot(x='Model',y='R2 Score',data=results,order=['Support Vector Regressor', 'Linear Regression', 'MLP Regressor','Decision Tree','Random Forest'])\n",
    "plt.title('R2 Score for Each Model')"
   ]
  },
  {
   "cell_type": "code",
   "execution_count": 73,
   "metadata": {},
   "outputs": [
    {
     "data": {
      "text/plain": [
       "<matplotlib.axes._subplots.AxesSubplot at 0x1bd32eb2c88>"
      ]
     },
     "execution_count": 73,
     "metadata": {},
     "output_type": "execute_result"
    },
    {
     "data": {
      "image/png": "[encoded data removed]",
      "text/plain": [
       "<Figure size 432x288 with 1 Axes>"
      ]
     },
     "metadata": {
      "needs_background": "light"
     },
     "output_type": "display_data"
    }
   ],
   "source": [
    "sns.scatterplot(x='R2 Score',y='RMSE',data=results,hue='Model')"
   ]
  },
  {
   "cell_type": "markdown",
   "metadata": {},
   "source": [
    "### 3.2: Scaled Data\n",
    "\n",
    "In this section, we shall scale the data and reimplement the same models implemented above. We shall use the Standard Scaler to scale our training and test sets."
   ]
  },
  {
   "cell_type": "code",
   "execution_count": 74,
   "metadata": {},
   "outputs": [],
   "source": [
    "from sklearn.preprocessing import StandardScaler\n",
    "scaler = StandardScaler()\n",
    "X_train = scaler.fit_transform(X_train)\n",
    "X_test = scaler.transform(X_test)"
   ]
  },
  {
   "cell_type": "markdown",
   "metadata": {},
   "source": [
    "Let us now implement the same models form section 3.1 above.\n",
    "\n",
    "#### 3.2.1: Decision Tree"
   ]
  },
  {
   "cell_type": "code",
   "execution_count": 79,
   "metadata": {},
   "outputs": [
    {
     "name": "stdout",
     "output_type": "stream",
     "text": [
      "Scaled Decision Tree R2 Score: 0.9360935337587707\n",
      "Scaled Decision Tree RMSE: 2488.9814048893463\n"
     ]
    }
   ],
   "source": [
    "s_dtr = DecisionTreeRegressor()\n",
    "s_dtr.fit(X_train,y_train)\n",
    "s_dtr_preds = s_dtr.predict(X_test)\n",
    "s_dtr_r2 = r2_score(np.exp(y_test),np.exp(s_dtr_preds))\n",
    "s_dtr_RMSE = np.sqrt(mean_squared_error(np.exp(y_test),np.exp(s_dtr_preds)))\n",
    "print(\"Scaled Decision Tree R2 Score: {}\".format(s_dtr_r2))\n",
    "print(\"Scaled Decision Tree RMSE: {}\".format(s_dtr_RMSE))"
   ]
  },
  {
   "cell_type": "markdown",
   "metadata": {},
   "source": [
    "Our decision tree model manages to explain 93% of the variance in our target variable, whilst producing a root mean squared error of approximately £2500.\n",
    "\n",
    "#### 3.2.2: Random Forest"
   ]
  },
  {
   "cell_type": "code",
   "execution_count": 80,
   "metadata": {},
   "outputs": [
    {
     "name": "stdout",
     "output_type": "stream",
     "text": [
      "Scaled Random Forest R2 Score: 0.9643509622313239\n",
      "Scaled Random Forest RMSE: 1858.9733174455205\n"
     ]
    }
   ],
   "source": [
    "s_rfr = RandomForestRegressor()\n",
    "s_rfr.fit(X_train, y_train)\n",
    "s_rfr_preds = s_rfr.predict(X_test)\n",
    "s_rfr_r2 = r2_score(np.exp(y_test),np.exp(s_rfr_preds))\n",
    "s_rfr_RMSE = np.sqrt(mean_squared_error(np.exp(y_test),np.exp(s_rfr_preds)))\n",
    "print(\"Scaled Random Forest R2 Score: {}\".format(s_rfr_r2))\n",
    "print(\"Scaled Random Forest RMSE: {}\".format(s_rfr_RMSE))"
   ]
  },
  {
   "cell_type": "markdown",
   "metadata": {},
   "source": [
    "The random forest regressor on our scaled training and test sets acheives an R2 score of approximately 96%, with a root mean squared error of roughly £1850.\n",
    "\n",
    "#### 3.2.3: Support Vector Regression"
   ]
  },
  {
   "cell_type": "code",
   "execution_count": 81,
   "metadata": {},
   "outputs": [
    {
     "name": "stdout",
     "output_type": "stream",
     "text": [
      "Scaled Support Vector Regression R2 Score: 0.9428365960639935\n",
      "Scaled Support Vector Regression RMSE: 2354.009934033297\n"
     ]
    }
   ],
   "source": [
    "s_svr = SVR()\n",
    "s_svr.fit(X_train, y_train)\n",
    "s_svr_preds = s_svr.predict(X_test)\n",
    "s_svr_r2 = r2_score(np.exp(y_test),np.exp(s_svr_preds))\n",
    "s_svr_RMSE = np.sqrt(mean_squared_error(np.exp(y_test),np.exp(s_svr_preds)))\n",
    "print(\"Scaled Support Vector Regression R2 Score: {}\".format(s_svr_r2))\n",
    "print(\"Scaled Support Vector Regression RMSE: {}\".format(s_svr_RMSE))"
   ]
  },
  {
   "cell_type": "markdown",
   "metadata": {},
   "source": [
    "Our support vector regression model based on the scaled data acheives an R2 score of approximately 92% and an RMSE value of roughly £2300.\n",
    "\n",
    "Let us join these results into a dataframe for a more direct comparison."
   ]
  },
  {
   "cell_type": "code",
   "execution_count": 89,
   "metadata": {},
   "outputs": [
    {
     "data": {
      "text/html": [
       "<div>\n",
       "<style scoped>\n",
       "    .dataframe tbody tr th:only-of-type {\n",
       "        vertical-align: middle;\n",
       "    }\n",
       "\n",
       "    .dataframe tbody tr th {\n",
       "        vertical-align: top;\n",
       "    }\n",
       "\n",
       "    .dataframe thead th {\n",
       "        text-align: right;\n",
       "    }\n",
       "</style>\n",
       "<table border=\"1\" class=\"dataframe\">\n",
       "  <thead>\n",
       "    <tr style=\"text-align: right;\">\n",
       "      <th></th>\n",
       "      <th>Model</th>\n",
       "      <th>R2 Score</th>\n",
       "      <th>RMSE</th>\n",
       "    </tr>\n",
       "  </thead>\n",
       "  <tbody>\n",
       "    <tr>\n",
       "      <th>0</th>\n",
       "      <td>Scaled Decision Tree</td>\n",
       "      <td>0.936094</td>\n",
       "      <td>2488.981405</td>\n",
       "    </tr>\n",
       "    <tr>\n",
       "      <th>1</th>\n",
       "      <td>Scaled Random Forest</td>\n",
       "      <td>0.964351</td>\n",
       "      <td>1858.973317</td>\n",
       "    </tr>\n",
       "    <tr>\n",
       "      <th>2</th>\n",
       "      <td>Scaled Support Vector Regressor</td>\n",
       "      <td>0.942837</td>\n",
       "      <td>2354.009934</td>\n",
       "    </tr>\n",
       "  </tbody>\n",
       "</table>\n",
       "</div>"
      ],
      "text/plain": [
       "                             Model  R2 Score         RMSE\n",
       "0             Scaled Decision Tree  0.936094  2488.981405\n",
       "1             Scaled Random Forest  0.964351  1858.973317\n",
       "2  Scaled Support Vector Regressor  0.942837  2354.009934"
      ]
     },
     "execution_count": 89,
     "metadata": {},
     "output_type": "execute_result"
    }
   ],
   "source": [
    "d = {'Model': ['Scaled Decision Tree', 'Scaled Random Forest', 'Scaled Support Vector Regressor'],\n",
    "    'R2 Score': [s_dtr_r2,s_rfr_r2,s_svr_r2],\n",
    "    'RMSE': [s_dtr_RMSE,s_rfr_RMSE,s_svr_RMSE]}\n",
    "scaled_results = pd.DataFrame(d)\n",
    "scaled_results"
   ]
  },
  {
   "cell_type": "markdown",
   "metadata": {},
   "source": [
    "We notice that our scaled random forest regressor is able to explain the most variance within the price of used cars in comaprison to the other models built using the scaled data. We also have the lowest root mean squared error as a result of using this model. \n",
    "\n",
    "Let us now analyse the results obtained by all of the models we have implemented so far."
   ]
  },
  {
   "cell_type": "code",
   "execution_count": 91,
   "metadata": {},
   "outputs": [
    {
     "data": {
      "text/html": [
       "<div>\n",
       "<style scoped>\n",
       "    .dataframe tbody tr th:only-of-type {\n",
       "        vertical-align: middle;\n",
       "    }\n",
       "\n",
       "    .dataframe tbody tr th {\n",
       "        vertical-align: top;\n",
       "    }\n",
       "\n",
       "    .dataframe thead th {\n",
       "        text-align: right;\n",
       "    }\n",
       "</style>\n",
       "<table border=\"1\" class=\"dataframe\">\n",
       "  <thead>\n",
       "    <tr style=\"text-align: right;\">\n",
       "      <th></th>\n",
       "      <th>Model</th>\n",
       "      <th>R2 Score</th>\n",
       "      <th>RMSE</th>\n",
       "    </tr>\n",
       "  </thead>\n",
       "  <tbody>\n",
       "    <tr>\n",
       "      <th>0</th>\n",
       "      <td>Linear Regression</td>\n",
       "      <td>0.906657</td>\n",
       "      <td>3008.083506</td>\n",
       "    </tr>\n",
       "    <tr>\n",
       "      <th>1</th>\n",
       "      <td>Decision Tree</td>\n",
       "      <td>0.937551</td>\n",
       "      <td>2460.428301</td>\n",
       "    </tr>\n",
       "    <tr>\n",
       "      <th>2</th>\n",
       "      <td>Random Forest</td>\n",
       "      <td>0.963927</td>\n",
       "      <td>1869.997362</td>\n",
       "    </tr>\n",
       "    <tr>\n",
       "      <th>3</th>\n",
       "      <td>Support Vector Regressor</td>\n",
       "      <td>0.873739</td>\n",
       "      <td>3498.520943</td>\n",
       "    </tr>\n",
       "    <tr>\n",
       "      <th>4</th>\n",
       "      <td>MLP Regressor</td>\n",
       "      <td>0.936931</td>\n",
       "      <td>2472.622387</td>\n",
       "    </tr>\n",
       "    <tr>\n",
       "      <th>5</th>\n",
       "      <td>Scaled Decision Tree</td>\n",
       "      <td>0.936094</td>\n",
       "      <td>2488.981405</td>\n",
       "    </tr>\n",
       "    <tr>\n",
       "      <th>6</th>\n",
       "      <td>Scaled Random Forest</td>\n",
       "      <td>0.964351</td>\n",
       "      <td>1858.973317</td>\n",
       "    </tr>\n",
       "    <tr>\n",
       "      <th>7</th>\n",
       "      <td>Scaled Support Vector Regressor</td>\n",
       "      <td>0.942837</td>\n",
       "      <td>2354.009934</td>\n",
       "    </tr>\n",
       "  </tbody>\n",
       "</table>\n",
       "</div>"
      ],
      "text/plain": [
       "                             Model  R2 Score         RMSE\n",
       "0                Linear Regression  0.906657  3008.083506\n",
       "1                    Decision Tree  0.937551  2460.428301\n",
       "2                    Random Forest  0.963927  1869.997362\n",
       "3         Support Vector Regressor  0.873739  3498.520943\n",
       "4                    MLP Regressor  0.936931  2472.622387\n",
       "5             Scaled Decision Tree  0.936094  2488.981405\n",
       "6             Scaled Random Forest  0.964351  1858.973317\n",
       "7  Scaled Support Vector Regressor  0.942837  2354.009934"
      ]
     },
     "execution_count": 91,
     "metadata": {},
     "output_type": "execute_result"
    }
   ],
   "source": [
    "full_results = pd.concat([results,scaled_results],ignore_index=True)\n",
    "full_results"
   ]
  },
  {
   "cell_type": "markdown",
   "metadata": {},
   "source": [
    "We observe that in both the unscaled and scaled sets, the random forest regressor performed better than all of the other types of regressors implemented within this project. In the case of the random forest regressor, scaling the data only slightly imporved the model, whereas the scaling of the data led to a reduction in the performance in the model. However, scaling the data led to an approximate 7% increase in the amount of variance explained by the support vector regression model. "
   ]
  },
  {
   "cell_type": "code",
   "execution_count": null,
   "metadata": {},
   "outputs": [],
   "source": []
  }
 ],
 "metadata": {
  "kernelspec": {
   "display_name": "Python 3",
   "language": "python",
   "name": "python3"
  },
  "language_info": {
   "codemirror_mode": {
    "name": "ipython",
    "version": 3
   },
   "file_extension": ".py",
   "mimetype": "text/x-python",
   "name": "python",
   "nbconvert_exporter": "python",
   "pygments_lexer": "ipython3",
   "version": "3.7.7"
  }
 },
 "nbformat": 4,
 "nbformat_minor": 4
}
